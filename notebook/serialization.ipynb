{
 "cells": [
  {
   "cell_type": "markdown",
   "id": "b51878dc-5292-4768-b50a-340a7debbac8",
   "metadata": {},
   "source": [
    "## Serialization for hyper-vectors"
   ]
  },
  {
   "cell_type": "markdown",
   "id": "284431bc-bf55-4ea5-9da4-b659bd24c3b4",
   "metadata": {},
   "source": [
    "This notebook talks about how to seriaze/de-serialize hyper-vectors. This is critical if we want to communicate vectors with remote services."
   ]
  },
  {
   "cell_type": "markdown",
   "id": "309aca55-b0b5-4685-8edd-d0c1f0ea0a4c",
   "metadata": {},
   "source": [
    "Let's first import relevant Python modules."
   ]
  },
  {
   "cell_type": "code",
   "execution_count": 1,
   "id": "083fe54b-4b1c-4040-ba28-1fe38dda56f3",
   "metadata": {},
   "outputs": [
    {
     "data": {
      "text/plain": [
       "'SparseConstrained(m=MODEL_16M_12BIT, hash=0xb0104c8a363b61c0, seed=0xb65c386d6e85d5ec, exp=1)'"
      ]
     },
     "execution_count": 1,
     "metadata": {},
     "output_type": "execute_result"
    }
   ],
   "source": [
    "from kongming import api\n",
    "from kongming import hv\n",
    "\n",
    "so=hv.new_sparse_operation(3, 2342)\n",
    "a=hv.new_random_sparse_constrained(so)\n",
    "a.string()"
   ]
  },
  {
   "cell_type": "markdown",
   "id": "dfe89921-9574-4812-b76a-f462a87c4cf4",
   "metadata": {},
   "source": [
    "`hv.to_message` will turn a hyper-vector into its equivalent message form (primarily for serialization). It can be printed nicely:"
   ]
  },
  {
   "cell_type": "code",
   "execution_count": 2,
   "id": "8dd512fb-81ae-46c9-892b-a297ceb64316",
   "metadata": {},
   "outputs": [
    {
     "data": {
      "text/plain": [
       "hint: SPARSE_CONSTRAINED\n",
       "model: MODEL_16M_12BIT\n",
       "stable_hash: 12686724306801746368\n",
       "sparse_constrained {\n",
       "  seed: 13140439855417120236\n",
       "}"
      ]
     },
     "execution_count": 2,
     "metadata": {},
     "output_type": "execute_result"
    }
   ],
   "source": [
    "msg = hv.to_message(a)\n",
    "msg"
   ]
  },
  {
   "attachments": {},
   "cell_type": "markdown",
   "id": "81111efe-c86b-4df1-8ce2-afadc6a1023d",
   "metadata": {},
   "source": [
    "`msg` is the serialized form of vector `a`. We can verify their signature hashes are identical."
   ]
  },
  {
   "cell_type": "code",
   "execution_count": 3,
   "id": "ef6d628d-e066-4be4-98db-047a6b4f088b",
   "metadata": {},
   "outputs": [
    {
     "data": {
      "text/plain": [
       "True"
      ]
     },
     "execution_count": 3,
     "metadata": {},
     "output_type": "execute_result"
    }
   ],
   "source": [
    "a.stable_hash() == msg.stable_hash"
   ]
  },
  {
   "attachments": {},
   "cell_type": "markdown",
   "id": "0dfcc786-f52b-46c0-b826-599917a3313f",
   "metadata": {},
   "source": [
    "It's also possible to convert the message into a json representation."
   ]
  },
  {
   "cell_type": "code",
   "execution_count": null,
   "id": "bc3a7b84-32a0-4459-afb8-71d0f31ba06b",
   "metadata": {},
   "outputs": [
    {
     "data": {
      "text/plain": [
       "'{\"hint\":\"SPARSE_CONSTRAINED\", \"model\":\"MODEL_16M_12BIT\", \"stableHash\":\"12686724306801746368\", \"sparseConstrained\":{\"seed\":\"13140439855417120236\"}}'"
      ]
     },
     "execution_count": 4,
     "metadata": {},
     "output_type": "execute_result"
    }
   ],
   "source": [
    "import json\n",
    "json_string = hv.as_json(a)\n",
    "json.loads(json_string)"
   ]
  },
  {
   "attachments": {},
   "cell_type": "markdown",
   "id": "01813dbc",
   "metadata": {},
   "source": [
    "The `msg` can be de-serialized back into a Python object:"
   ]
  },
  {
   "cell_type": "code",
   "execution_count": 6,
   "id": "17ecc845-598c-488c-b31c-66b9f02f3c9b",
   "metadata": {},
   "outputs": [
    {
     "data": {
      "text/plain": [
       "'SparseConstrained(m=MODEL_16M_12BIT, hash=0xb0104c8a363b61c0, seed=0xb65c386d6e85d5ec, exp=1)'"
      ]
     },
     "execution_count": 6,
     "metadata": {},
     "output_type": "execute_result"
    }
   ],
   "source": [
    "back=hv.from_message(msg)\n",
    "back.string()"
   ]
  },
  {
   "cell_type": "markdown",
   "id": "9c71a9c1-96cf-42b7-9192-14860d8b6dec",
   "metadata": {},
   "source": [
    "We've verified the conversion from serialized form to its original vector was successful."
   ]
  },
  {
   "attachments": {},
   "cell_type": "markdown",
   "id": "f8dc7104-1b0c-4bf9-a432-79e0201b7dcd",
   "metadata": {},
   "source": [
    "For vectors generated via `new_sparse_constrained_from_seed_word`, the debugging can be even nicer."
   ]
  },
  {
   "cell_type": "code",
   "execution_count": 7,
   "id": "c47a4cb8-896b-412f-b7b6-d38a85db0b2d",
   "metadata": {},
   "outputs": [
    {
     "data": {
      "text/plain": [
       "\"SparseConstrained(m=MODEL_16M_12BIT, hash=0x4ad4def1a8f34152, 'seed', exp=1)\""
      ]
     },
     "execution_count": 7,
     "metadata": {},
     "output_type": "execute_result"
    }
   ],
   "source": [
    "b=hv.new_sparse_constrained_from_seed_word(api.MODEL_16M_12BIT, \"seed\", False)\n",
    "b.string()"
   ]
  },
  {
   "cell_type": "markdown",
   "id": "394a73e0-6375-4748-98c6-ce57cceeaaff",
   "metadata": {},
   "source": [
    "Its json form can be retrieved by:"
   ]
  },
  {
   "cell_type": "code",
   "execution_count": 8,
   "id": "d8dae498-4090-4be4-a73d-8ea46403fde4",
   "metadata": {},
   "outputs": [
    {
     "data": {
      "text/plain": [
       "'{\"hint\":\"SPARSE_CONSTRAINED\", \"model\":\"MODEL_16M_12BIT\", \"stableHash\":\"5392179783372325202\", \"sparseConstrained\":{\"seedWord\":\"seed\"}}'"
      ]
     },
     "execution_count": 8,
     "metadata": {},
     "output_type": "execute_result"
    }
   ],
   "source": [
    "hv.as_json(b)"
   ]
  },
  {
   "cell_type": "markdown",
   "id": "e44e4c32-2d1c-4349-9a59-1bfb66f8079c",
   "metadata": {},
   "source": [
    "## Serialization for sets of hyper-vectors"
   ]
  },
  {
   "cell_type": "markdown",
   "id": "691d6683-4cb2-4d48-9922-087c9a904c9a",
   "metadata": {},
   "source": [
    "Similarly we can serialize / deserialize sets of vectors as a whole. \n",
    "`hv.new_weighted_set` is such a helper function, which forms a weighted set."
   ]
  },
  {
   "cell_type": "code",
   "execution_count": 9,
   "id": "297918b5-61b4-4196-ae95-e916bb4ab0b6",
   "metadata": {},
   "outputs": [
    {
     "data": {
      "text/plain": [
       "'WeightedSet{0xb0104c8a363b61c0 (0.20) ,0xd50ea407d58f12c7 (0.20) ,0x83fd0fc2f3ee5df0 (0.60)}'"
      ]
     },
     "execution_count": 9,
     "metadata": {},
     "output_type": "execute_result"
    }
   ],
   "source": [
    "b=hv.new_random_sparse_constrained(so)\n",
    "c=hv.new_random_sparse_constrained(so)\n",
    "\n",
    "s=hv.new_weighted_set([a,b,c], [0.2,0.2,0.6])\n",
    "s.string()"
   ]
  },
  {
   "cell_type": "markdown",
   "id": "6e501b94-75fa-4867-bf96-5f8eb611d506",
   "metadata": {},
   "source": [
    "Again, `hv.to_set_message` will turn such instance into its equivalent message."
   ]
  },
  {
   "cell_type": "code",
   "execution_count": 10,
   "id": "82b7cacb-76c0-498f-b3aa-f1a2692444ad",
   "metadata": {},
   "outputs": [
    {
     "data": {
      "text/plain": [
       "hint: WEIGHTED_SET\n",
       "members {\n",
       "  hint: SPARSE_CONSTRAINED\n",
       "  model: MODEL_16M_12BIT\n",
       "  stable_hash: 12686724306801746368\n",
       "  sparse_constrained {\n",
       "    seed: 13140439855417120236\n",
       "  }\n",
       "}\n",
       "members {\n",
       "  hint: SPARSE_CONSTRAINED\n",
       "  model: MODEL_16M_12BIT\n",
       "  stable_hash: 15352388533307249351\n",
       "  sparse_constrained {\n",
       "    seed: 7185127869584986079\n",
       "  }\n",
       "}\n",
       "members {\n",
       "  hint: SPARSE_CONSTRAINED\n",
       "  model: MODEL_16M_12BIT\n",
       "  stable_hash: 9510775318066912752\n",
       "  sparse_constrained {\n",
       "    seed: 8801786502350939704\n",
       "  }\n",
       "}\n",
       "weights: 0.2\n",
       "weights: 0.2\n",
       "weights: 0.6"
      ]
     },
     "execution_count": 10,
     "metadata": {},
     "output_type": "execute_result"
    }
   ],
   "source": [
    "set_msg=hv.to_set_message(s)\n",
    "set_msg"
   ]
  },
  {
   "cell_type": "markdown",
   "id": "36ade6ae-261f-418c-843d-30b2513b659c",
   "metadata": {},
   "source": [
    "The message can be converted back to a weighted set (of hyper-vectors), and the result should be identical to the original `s`."
   ]
  },
  {
   "cell_type": "code",
   "execution_count": 11,
   "id": "d8b68f47-c5d6-4d4b-9a37-3a263b1b1cb4",
   "metadata": {},
   "outputs": [
    {
     "data": {
      "text/plain": [
       "'WeightedSet{0xb0104c8a363b61c0 (0.20) ,0xd50ea407d58f12c7 (0.20) ,0x83fd0fc2f3ee5df0 (0.60)}'"
      ]
     },
     "execution_count": 11,
     "metadata": {},
     "output_type": "execute_result"
    }
   ],
   "source": [
    "back_set=hv.from_set_message(set_msg)\n",
    "back_set.string()"
   ]
  },
  {
   "cell_type": "markdown",
   "id": "ab87c916-6fbe-4490-99e5-9f49c9ca9512",
   "metadata": {},
   "source": [
    "Finally, `util` module also contains convenience functions such as `new_sequence` and `new_uniform_set`."
   ]
  },
  {
   "cell_type": "markdown",
   "id": "7530b395-b428-4428-a241-526de052d043",
   "metadata": {},
   "source": [
    "## Serialization for `bind` and `bundle` operations"
   ]
  },
  {
   "cell_type": "markdown",
   "id": "23f6807c-9a76-4d50-a3c0-1525cb600b13",
   "metadata": {},
   "source": [
    "Let's first perform a `bind` operation."
   ]
  },
  {
   "cell_type": "code",
   "execution_count": 12,
   "id": "c7bbc3ad-c739-40e9-baae-26f1cbe0ddf3",
   "metadata": {},
   "outputs": [],
   "source": [
    "bound = hv.bind([a, b, c])"
   ]
  },
  {
   "cell_type": "code",
   "execution_count": 13,
   "id": "173b8713-6351-4bbd-9617-53755c9d8d33",
   "metadata": {},
   "outputs": [
    {
     "data": {
      "text/plain": [
       "hint: KNOT\n",
       "model: MODEL_16M_12BIT\n",
       "stable_hash: 10105111120497942738\n",
       "knot {\n",
       "  parts {\n",
       "    hint: SPARSE_CONSTRAINED\n",
       "    sparse_constrained {\n",
       "      seed: 13140439855417120236\n",
       "    }\n",
       "  }\n",
       "  parts {\n",
       "    hint: SPARSE_CONSTRAINED\n",
       "    sparse_constrained {\n",
       "      seed: 7185127869584986079\n",
       "    }\n",
       "  }\n",
       "  parts {\n",
       "    hint: SPARSE_CONSTRAINED\n",
       "    sparse_constrained {\n",
       "      seed: 8801786502350939704\n",
       "    }\n",
       "  }\n",
       "}"
      ]
     },
     "execution_count": 13,
     "metadata": {},
     "output_type": "execute_result"
    }
   ],
   "source": [
    "hv.to_message(bound)"
   ]
  },
  {
   "cell_type": "markdown",
   "id": "c60ddb40-272d-4b45-82fa-29c610c9d7ee",
   "metadata": {},
   "source": [
    "`knot` is a new type to record the result of a `bind` operation. Actually we don't serialize the result, instead, we record individual inputs and the result will be computed on-the-fly during de-serialization, as the computation is repeatable and deterministic."
   ]
  },
  {
   "cell_type": "markdown",
   "id": "2e0d5808-1c02-42df-9a43-91eca843401a",
   "metadata": {},
   "source": [
    "`bundle` operation is a bit complicated, as it involves a seed: each seed identifies an unique and valid `bundle` operation among an operator family."
   ]
  },
  {
   "cell_type": "code",
   "execution_count": 14,
   "id": "9e0abb80-b8fb-4c05-ac5b-d144b6a4008f",
   "metadata": {},
   "outputs": [],
   "source": [
    "bundled = hv.bundle(10, [a, b, c])"
   ]
  },
  {
   "cell_type": "code",
   "execution_count": 15,
   "id": "21babec9-48bc-493a-ae87-7fffc1d6b0f9",
   "metadata": {},
   "outputs": [
    {
     "data": {
      "text/plain": [
       "hint: NECKLACE\n",
       "model: MODEL_16M_12BIT\n",
       "stable_hash: 14435243644180154857\n",
       "necklace {\n",
       "  seed: 10\n",
       "  pearls {\n",
       "    hint: UNIFORM_SET\n",
       "    members {\n",
       "      hint: SPARSE_CONSTRAINED\n",
       "      sparse_constrained {\n",
       "        seed: 13140439855417120236\n",
       "      }\n",
       "    }\n",
       "    members {\n",
       "      hint: SPARSE_CONSTRAINED\n",
       "      sparse_constrained {\n",
       "        seed: 7185127869584986079\n",
       "      }\n",
       "    }\n",
       "    members {\n",
       "      hint: SPARSE_CONSTRAINED\n",
       "      sparse_constrained {\n",
       "        seed: 8801786502350939704\n",
       "      }\n",
       "    }\n",
       "  }\n",
       "}"
      ]
     },
     "execution_count": 15,
     "metadata": {},
     "output_type": "execute_result"
    }
   ],
   "source": [
    "hv.to_message(bundled)"
   ]
  },
  {
   "cell_type": "markdown",
   "id": "dc208ef9-56eb-4db3-a6a6-267d8ae01875",
   "metadata": {},
   "source": [
    "The resulted `necklace`type faithfully records the individual members, as well as the unique seed. Again, the computation is done on-the-fly during de-serialization and no space is needed at rest."
   ]
  },
  {
   "cell_type": "markdown",
   "id": "b12f4625-e983-4ef0-871a-d036ac909a1b",
   "metadata": {},
   "source": [
    "I feel a bit more adventurous: how about bundle vectors with varying weights?"
   ]
  },
  {
   "cell_type": "code",
   "execution_count": 16,
   "id": "b7f6bc6a-5015-4023-a8b0-da012f369313",
   "metadata": {},
   "outputs": [
    {
     "data": {
      "text/plain": [
       "'Necklace{SparseConstrained(m=MODEL_16M_12BIT, hash=0x2b4d289048e51706), seed=0x000000000000000a, pearls:(sc(0xb65c386d6e85d5ec, 1), sc(0x63b6b3ba9c5f4fdf, 1), sc(0x7a263a30a574a638, 1))}'"
      ]
     },
     "execution_count": 16,
     "metadata": {},
     "output_type": "execute_result"
    }
   ],
   "source": [
    "bundled_weights = hv.bundle_with_weights(10, [a, b, c], [0.4, 0.2, 0.4])\n",
    "bundled_weights.string()"
   ]
  },
  {
   "cell_type": "code",
   "execution_count": 17,
   "id": "5211c62d-32f9-485c-a0ce-b737645c9c9a",
   "metadata": {},
   "outputs": [
    {
     "data": {
      "text/plain": [
       "hint: NECKLACE\n",
       "model: MODEL_16M_12BIT\n",
       "stable_hash: 3120194717000996614\n",
       "necklace {\n",
       "  seed: 10\n",
       "  pearls {\n",
       "    hint: WEIGHTED_SET\n",
       "    members {\n",
       "      hint: SPARSE_CONSTRAINED\n",
       "      sparse_constrained {\n",
       "        seed: 13140439855417120236\n",
       "      }\n",
       "    }\n",
       "    members {\n",
       "      hint: SPARSE_CONSTRAINED\n",
       "      sparse_constrained {\n",
       "        seed: 7185127869584986079\n",
       "      }\n",
       "    }\n",
       "    members {\n",
       "      hint: SPARSE_CONSTRAINED\n",
       "      sparse_constrained {\n",
       "        seed: 8801786502350939704\n",
       "      }\n",
       "    }\n",
       "    weights: 0.4\n",
       "    weights: 0.2\n",
       "    weights: 0.4\n",
       "  }\n",
       "}"
      ]
     },
     "execution_count": 17,
     "metadata": {},
     "output_type": "execute_result"
    }
   ],
   "source": [
    "hv.to_message(bundled_weights)"
   ]
  },
  {
   "cell_type": "markdown",
   "id": "82609fc7-ef57-4e5c-bd60-a142a1cde4d5",
   "metadata": {},
   "source": [
    "The individual weights are faithfully recorded in the message."
   ]
  },
  {
   "cell_type": "code",
   "execution_count": 18,
   "id": "c1512c88-aee1-4e6d-b3df-692c35e9477f",
   "metadata": {},
   "outputs": [
    {
     "data": {
      "text/plain": [
       "(1612, 871, 1619)"
      ]
     },
     "execution_count": 18,
     "metadata": {},
     "output_type": "execute_result"
    }
   ],
   "source": [
    "hv.overlap(bundled_weights, a), hv.overlap(bundled_weights, b), hv.overlap(bundled_weights, c)"
   ]
  },
  {
   "cell_type": "markdown",
   "id": "16f1b747-1f92-4317-8351-6cf924d2908e",
   "metadata": {},
   "source": [
    "You can see the overlap is distributed approximately to their invididual weights."
   ]
  }
 ],
 "metadata": {
  "kernelspec": {
   "display_name": "Python 3 (ipykernel)",
   "language": "python",
   "name": "python3"
  },
  "language_info": {
   "codemirror_mode": {
    "name": "ipython",
    "version": 3
   },
   "file_extension": ".py",
   "mimetype": "text/x-python",
   "name": "python",
   "nbconvert_exporter": "python",
   "pygments_lexer": "ipython3",
   "version": "3.7.3"
  }
 },
 "nbformat": 4,
 "nbformat_minor": 5
}
