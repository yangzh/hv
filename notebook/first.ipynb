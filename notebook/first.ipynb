{
 "cells": [
  {
   "cell_type": "markdown",
   "id": "63aa2ebc-53be-46fc-992f-56d52d1ff7c0",
   "metadata": {
    "tags": []
   },
   "source": [
    "## The `kongming.api` package"
   ]
  },
  {
   "cell_type": "markdown",
   "id": "15dee282-110b-44cb-b8d4-e542e449895b",
   "metadata": {},
   "source": [
    "This notebook (along with a few follow-up ones) serves as an illustration of my work on high-dimensional computing (HDC)\n",
    "First we need to import related Python modules."
   ]
  },
  {
   "cell_type": "code",
   "execution_count": 1,
   "id": "c84d2dcc-f7c4-4861-baad-0d9e6a91cddc",
   "metadata": {},
   "outputs": [],
   "source": [
    "from kongming import api"
   ]
  },
  {
   "cell_type": "markdown",
   "id": "aa21b0c3-8cd9-4c13-8c2d-0af2aaf82067",
   "metadata": {},
   "source": [
    "`api` is collection of auto-generated from cross-language protocol buffer definitions.\n",
    "For now, you just need to know a few constants:\n",
    "\n",
    "* `api.MODEL_64K_8BIT`=1: used for hyper-vectors, where N=65536, and sparsity=1/256 (8-bit depth);\n",
    "* `api.MODEL_1M_10BIT`=2: used for hyper-vectors, where N=1M, and sparsity=1/1024 (10-bit depth);\n",
    "* `api.MODEL_16M_12BIT`=3: used for hyper-vectors, where N=16M, and sparsity=1/4096 (12-bit depth).\n",
    "\n",
    "Later on you can either use these constants, or just the numeric value."
   ]
  },
  {
   "cell_type": "markdown",
   "id": "a422cbb8-965a-4578-ba46-de0b05ade68d",
   "metadata": {},
   "source": [
    "## `hv` module from `kongming` package"
   ]
  },
  {
   "cell_type": "code",
   "execution_count": 2,
   "id": "db8c35f8-637d-4646-b92a-30b5a5698e50",
   "metadata": {},
   "outputs": [
    {
     "name": "stdout",
     "output_type": "stream",
     "text": [
      "GOMAXPROCS set to 128 for this invocation.\n"
     ]
    }
   ],
   "source": [
    "from kongming import hv"
   ]
  },
  {
   "cell_type": "markdown",
   "id": "698d52cf-43d9-4fbd-a69b-ad7b217524f2",
   "metadata": {},
   "source": [
    "Another important concept is `domain`, which is a collection of semantically related hypervectors. For now, we use default domain `d0`."
   ]
  },
  {
   "cell_type": "code",
   "execution_count": 4,
   "id": "c3b5d79a-a245-4f82-8453-7761b87e9ad9",
   "metadata": {},
   "outputs": [],
   "source": [
    "d0 = hv.d0()"
   ]
  },
  {
   "cell_type": "markdown",
   "id": "4642aed0-aeb6-4678-b529-ffe9eb4ef2ee",
   "metadata": {},
   "source": [
    "Module `kongming.hv` contains a number of useful classes and operations.\n",
    "For example, `SparseOperation` class, as its name suggests, models the sparse operation."
   ]
  },
  {
   "cell_type": "code",
   "execution_count": 3,
   "id": "f6ad4f9f-1857-440a-884e-f20dea49758f",
   "metadata": {
    "scrolled": true
   },
   "outputs": [
    {
     "name": "stdout",
     "output_type": "stream",
     "text": [
      "Help on class SparseOperation in module kongming.ext.hv:\n",
      "\n",
      "class SparseOperation(kongming.ext.go.GoClass)\n",
      " |  SparseOperation(*args, **kwargs)\n",
      " |  \n",
      " |  SparseOperation models operations for stochastic sparse hypervectors.\n",
      " |  \n",
      " |  Method resolution order:\n",
      " |      SparseOperation\n",
      " |      kongming.ext.go.GoClass\n",
      " |      builtins.object\n",
      " |  \n",
      " |  Methods defined here:\n",
      " |  \n",
      " |  __del__(self)\n",
      " |  \n",
      " |  __init__(self, *args, **kwargs)\n",
      " |      handle=A Go-side object is always initialized with an explicit handle=arg\n",
      " |      otherwise parameters can be unnamed in order of field names or named fields\n",
      " |      in which case a new Go object is constructed first\n",
      " |  \n",
      " |  __repr__(self)\n",
      " |      Return repr(self).\n",
      " |  \n",
      " |  __str__(self)\n",
      " |      Return str(self).\n",
      " |  \n",
      " |  cardinality(self)\n",
      " |      Cardinality() long\n",
      " |      \n",
      " |      Cardinality returns the associated cardinality (ON bit counts).\n",
      " |  \n",
      " |  domain(self)\n",
      " |      Domain() object\n",
      " |      \n",
      " |      Domain returns the associated domain.\n",
      " |  \n",
      " |  model(self)\n",
      " |      Model() int\n",
      " |      \n",
      " |      Model returns the associated sparsity model.\n",
      " |  \n",
      " |  random_uint64(self)\n",
      " |      RandomUint64() long\n",
      " |      \n",
      " |      RandomUint64 returns a random uint64 number.\n",
      " |  \n",
      " |  rng(self)\n",
      " |      RNG() object\n",
      " |      \n",
      " |      RNG returns the RNG associated with the model.\n",
      " |  \n",
      " |  seed_high(self)\n",
      " |      SeedHigh() long\n",
      " |      \n",
      " |      SeedHigh returns the high part of the RNG seed.\n",
      " |  \n",
      " |  seed_low(self)\n",
      " |      SeedLow() long\n",
      " |      \n",
      " |      SeedHigh returns the high part of the RNG seed.\n",
      " |  \n",
      " |  sparsity(self)\n",
      " |      Sparsity() float\n",
      " |      \n",
      " |      Sparsity returns the sparsity for the model.\n",
      " |  \n",
      " |  string(self)\n",
      " |      String() str\n",
      " |      \n",
      " |      String returns a string representation for the instance.\n",
      " |  \n",
      " |  width(self)\n",
      " |      Width() long\n",
      " |      \n",
      " |      Width returns the associated width.\n",
      " |  \n",
      " |  ----------------------------------------------------------------------\n",
      " |  Data descriptors inherited from kongming.ext.go.GoClass:\n",
      " |  \n",
      " |  __dict__\n",
      " |      dictionary for instance variables (if defined)\n",
      " |  \n",
      " |  __weakref__\n",
      " |      list of weak references to the object (if defined)\n",
      "\n"
     ]
    }
   ],
   "source": [
    "help(hv.SparseOperation)"
   ]
  },
  {
   "cell_type": "markdown",
   "id": "4a4ecdb4-c36a-4df6-a34f-e9171da76eab",
   "metadata": {},
   "source": [
    "As directed by above information, we can create a `SparseOperation` instance from the default domain `d0`: the second argument is an initial seed for the internal random number generator, and any number will do."
   ]
  },
  {
   "cell_type": "code",
   "execution_count": 5,
   "id": "988a78e2-76d2-4e16-824e-5bbc5bdcd931",
   "metadata": {},
   "outputs": [],
   "source": [
    "so = d0.new_sparse_operation(api.MODEL_1M_10BIT, 99)"
   ]
  },
  {
   "cell_type": "markdown",
   "id": "860a115f-1827-4287-a9fc-31c700f523c4",
   "metadata": {},
   "source": [
    "The associated model can be retrieved from this object, which is the numeric value for `MODEL_1M_10BIT`"
   ]
  },
  {
   "cell_type": "code",
   "execution_count": 6,
   "id": "8b843a2e-fcae-4580-aef2-65450dd99d6f",
   "metadata": {},
   "outputs": [
    {
     "data": {
      "text/plain": [
       "2"
      ]
     },
     "execution_count": 6,
     "metadata": {},
     "output_type": "execute_result"
    }
   ],
   "source": [
    "so.model()"
   ]
  },
  {
   "cell_type": "markdown",
   "id": "a993b55b-538a-4a7b-9534-36854eb42759",
   "metadata": {},
   "source": [
    "A random hyper-vector can be generated by:"
   ]
  },
  {
   "cell_type": "code",
   "execution_count": 8,
   "id": "d58fdef6-dfb7-4b22-a910-54b74ea7dc21",
   "metadata": {},
   "outputs": [],
   "source": [
    "a = d0.new_random_sparse_segmented(so)"
   ]
  },
  {
   "cell_type": "markdown",
   "id": "dd9c2afa-b77b-4262-b282-7df076a227c5",
   "metadata": {},
   "source": [
    "Each returned hyper-vector is of type `hv.SparseSegmented`, and the associated methods can be inspected by"
   ]
  },
  {
   "cell_type": "code",
   "execution_count": 9,
   "id": "bf55fc9e-8ee5-46f7-89f2-9503345cfd74",
   "metadata": {},
   "outputs": [
    {
     "name": "stdout",
     "output_type": "stream",
     "text": [
      "Help on class SparseSegmented in module kongming.ext.hv:\n",
      "\n",
      "class SparseSegmented(kongming.ext.go.GoClass)\n",
      " |  SparseSegmented(*args, **kwargs)\n",
      " |  \n",
      " |  SparseSegmented is a special subset of sparse binary hyper-vectors.\n",
      " |  \n",
      " |  Compared with generic sparse binary hyper-vectors (SparseBinary), where ON bits can be positioned anywhere,\n",
      " |  this is a more constrained form of sparse hyper-vectors, with the following benefits:\n",
      " |  \n",
      " |  1. it allows an even more compact memory/storage representation than SparseBinary;\n",
      " |  2. if offers greatly simplified operations;\n",
      " |  \n",
      " |  Method resolution order:\n",
      " |      SparseSegmented\n",
      " |      kongming.ext.go.GoClass\n",
      " |      builtins.object\n",
      " |  \n",
      " |  Methods defined here:\n",
      " |  \n",
      " |  __del__(self)\n",
      " |  \n",
      " |  __init__(self, *args, **kwargs)\n",
      " |      handle=A Go-side object is always initialized with an explicit handle=arg\n",
      " |      otherwise parameters can be unnamed in order of field names or named fields\n",
      " |      in which case a new Go object is constructed first\n",
      " |  \n",
      " |  __repr__(self)\n",
      " |      Return repr(self).\n",
      " |  \n",
      " |  __str__(self)\n",
      " |      Return str(self).\n",
      " |  \n",
      " |  cardinality(self)\n",
      " |      Cardinality() long\n",
      " |      \n",
      " |      Cardinality returns the cardinality (count for ON bits) for this instance.\n",
      " |  \n",
      " |  clone(self)\n",
      " |      Clone() object\n",
      " |      \n",
      " |      Clone makes and returns a clone for this instance.\n",
      " |  \n",
      " |  core(self)\n",
      " |      Core() object\n",
      " |  \n",
      " |  domain(self)\n",
      " |      Domain() object\n",
      " |  \n",
      " |  equal(self, other)\n",
      " |      Equal(object other) bool\n",
      " |      \n",
      " |      Equal returns true iff this and the incoming HyperBinary are semantically equal.\n",
      " |  \n",
      " |  exponent(self)\n",
      " |      Exponent() int\n",
      " |      \n",
      " |      Exponent returns the exponent for this SparseSegmented instance.\n",
      " |      0 implies exponent is N/A for this instance.\n",
      " |  \n",
      " |  hamming(self, incoming)\n",
      " |      Hamming(object incoming) long\n",
      " |      \n",
      " |      Hamming returns the Hamming distance between this and the incoming HyperBinary instance.\n",
      " |      \n",
      " |      It panics if width mismatches.\n",
      " |  \n",
      " |  inverse(self)\n",
      " |      Inverse() object\n",
      " |      \n",
      " |      Inverse returns the inverse for the incoming HyperBinary instance.\n",
      " |  \n",
      " |  is_identity(self)\n",
      " |      IsIdentity() bool\n",
      " |      \n",
      " |      IsIdentity returns true iff this instance is an identity vector.\n",
      " |  \n",
      " |  model(self)\n",
      " |      Model() int\n",
      " |      \n",
      " |      Model returns the model for this instance.\n",
      " |  \n",
      " |  offset(self, seg)\n",
      " |      Offset(long seg) long\n",
      " |      \n",
      " |      Offset returns the in-segment offset for the given segment.\n",
      " |  \n",
      " |  on(self, idx)\n",
      " |      On(long idx) bool\n",
      " |      \n",
      " |      On returns true iff the specified location has a ON bit.\n",
      " |      \n",
      " |      It panics for out-of-boundary index.\n",
      " |  \n",
      " |  on_idx(self, seg)\n",
      " |      OnIdx(long seg) long\n",
      " |      \n",
      " |      OnIdx returns the global position for the given segment.\n",
      " |  \n",
      " |  overlap(self, incoming)\n",
      " |      Overlap(object incoming) long\n",
      " |      \n",
      " |      Overlap returns the overlap between this and the incoming HyperBinary instance.\n",
      " |      \n",
      " |      It panics if width mismatches.\n",
      " |  \n",
      " |  perturb(self, rng, noise)\n",
      " |      Perturb(object rng, float noise) object\n",
      " |  \n",
      " |  power(self, k)\n",
      " |      Power(int k) object\n",
      " |      \n",
      " |      Power returns the k-th power for the incoming HyperBinary instance.\n",
      " |  \n",
      " |  prewired(self)\n",
      " |      Prewired() int\n",
      " |      \n",
      " |      Prewired returns the prewired enum for this SparseSegmented instance.\n",
      " |  \n",
      " |  proto_load(self, *args)\n",
      " |      ProtoLoad([]object opts) object, str\n",
      " |      \n",
      " |      ProtoLoad performs serialization.\n",
      " |  \n",
      " |  seed_high(self)\n",
      " |      SeedHigh() long\n",
      " |      \n",
      " |      SeedHigh returns the high 64bit seed (to generate ON bits) for this SparseSegmented instance.\n",
      " |  \n",
      " |  seed_low(self)\n",
      " |      SeedLow() long\n",
      " |      \n",
      " |      SeedLow returns the low 64bit seed (to generate ON bits) for this SparseSegmented instance.\n",
      " |      0 implies the seed is N/A for this instance.\n",
      " |  \n",
      " |  seed_word(self)\n",
      " |      SeedWord() str\n",
      " |      \n",
      " |      SeedWord returns the seed word (to generate the ON bits) for this SparseSegmented instance.\n",
      " |      \"\" implies the seed word is N/A.\n",
      " |  \n",
      " |  stable_hash(self)\n",
      " |      StableHash() long\n",
      " |      \n",
      " |      StableHash returns the stable hash for this instance.\n",
      " |  \n",
      " |  string(self)\n",
      " |      String() str\n",
      " |      \n",
      " |      String returns the string representation for this SparseSegmented instance.\n",
      " |  \n",
      " |  width(self)\n",
      " |      Width() long\n",
      " |      \n",
      " |      Width returns the width for this instance.\n",
      " |  \n",
      " |  ----------------------------------------------------------------------\n",
      " |  Data descriptors inherited from kongming.ext.go.GoClass:\n",
      " |  \n",
      " |  __dict__\n",
      " |      dictionary for instance variables (if defined)\n",
      " |  \n",
      " |  __weakref__\n",
      " |      list of weak references to the object (if defined)\n",
      "\n"
     ]
    }
   ],
   "source": [
    "help(hv.SparseSegmented)"
   ]
  },
  {
   "cell_type": "markdown",
   "id": "c21e4b05-951d-4558-9097-975a23502fd1",
   "metadata": {},
   "source": [
    "One of the important method for `hv.SparseSegmented` is `stable_hash`, which returns the signature hash value for the hyper-vector. Different vector, no matter how small the difference is, will produce dramatically different hash value. In addition, the design for this hash is representation-agnostic: the idea is that the hash value for the same vector, in different forms of representation, will remain unchanged. In summary, it's always safe to compare their hash value to determine equality."
   ]
  },
  {
   "cell_type": "code",
   "execution_count": 10,
   "id": "0cff7ec3-8c4a-4977-904c-be66fc662b34",
   "metadata": {},
   "outputs": [
    {
     "data": {
      "text/plain": [
       "'0x53be7fd0cd84d422'"
      ]
     },
     "execution_count": 10,
     "metadata": {},
     "output_type": "execute_result"
    }
   ],
   "source": [
    "hex(a.stable_hash())"
   ]
  },
  {
   "cell_type": "markdown",
   "id": "78743525-b719-4418-a17d-f1389d222742",
   "metadata": {},
   "source": [
    "Another useful way to examine a hyper-vector is `string`, essentially turn a vector into its human-readable string form."
   ]
  },
  {
   "cell_type": "code",
   "execution_count": 11,
   "id": "6ac211c3-4a24-4861-bc41-2f7b96d883a6",
   "metadata": {},
   "outputs": [
    {
     "data": {
      "text/plain": [
       "'ss(m=MODEL_1M_10BIT, hash=0x53be7fd0cd84d422, seed=0x9b03a1202af08426, exp=1)'"
      ]
     },
     "execution_count": 11,
     "metadata": {},
     "output_type": "execute_result"
    }
   ],
   "source": [
    "a.string()"
   ]
  },
  {
   "cell_type": "markdown",
   "id": "bd4b85d1-765a-40ce-9dc0-509b6a62571b",
   "metadata": {},
   "source": [
    "The above hash always in `uint64` hex form, and idential to `stable_hash()`."
   ]
  },
  {
   "cell_type": "markdown",
   "id": "f12e9edc-5363-4fa0-81ce-aa3f94fab137",
   "metadata": {},
   "source": [
    "The string form can also be obtained via Python function call of `str(a)`, which internally will call `string()` method."
   ]
  },
  {
   "cell_type": "code",
   "execution_count": 12,
   "id": "b02236bf-1fb3-4e80-9f5e-0c40e2b15c1c",
   "metadata": {},
   "outputs": [
    {
     "data": {
      "text/plain": [
       "'ss(m=MODEL_1M_10BIT, hash=0x53be7fd0cd84d422, seed=0x9b03a1202af08426, exp=1)'"
      ]
     },
     "execution_count": 12,
     "metadata": {},
     "output_type": "execute_result"
    }
   ],
   "source": [
    "str(a)"
   ]
  },
  {
   "cell_type": "markdown",
   "id": "e5e2692d-3597-4cea-af2b-52d51b2cfad5",
   "metadata": {},
   "source": [
    "Let's make another small step by creating another hypervector `b`."
   ]
  },
  {
   "cell_type": "code",
   "execution_count": 14,
   "id": "5906f6a1-7020-4ae4-9938-b3a02eb1429f",
   "metadata": {},
   "outputs": [],
   "source": [
    "b = d0.new_random_sparse_segmented(so)"
   ]
  },
  {
   "cell_type": "markdown",
   "id": "ed1c7311-0b69-412e-8667-c51df9c8fa98",
   "metadata": {},
   "source": [
    "Note the `SparseOperation` object will change its internal RNG status, and the next call of `new_random_sparse_segmented` will produce a complete new hyper-vector.\n",
    "\n",
    "A pair of random hypervectors is almost orthogonal, as shown by their overlap."
   ]
  },
  {
   "cell_type": "code",
   "execution_count": 16,
   "id": "63cc77be-4401-49c6-8d6b-416b308c72d8",
   "metadata": {},
   "outputs": [
    {
     "data": {
      "text/plain": [
       "1"
      ]
     },
     "execution_count": 16,
     "metadata": {},
     "output_type": "execute_result"
    }
   ],
   "source": [
    "hv.overlap(a,b)"
   ]
  },
  {
   "cell_type": "markdown",
   "id": "b5d6a608-8de5-4d84-affa-67e988dc44e2",
   "metadata": {},
   "source": [
    "In the meanwhile, their Hamming distance will be big: they are really far distant apart."
   ]
  },
  {
   "cell_type": "code",
   "execution_count": 12,
   "id": "216f4c95-077d-43a7-bf00-1f6f5f1114d8",
   "metadata": {},
   "outputs": [
    {
     "data": {
      "text/plain": [
       "2046"
      ]
     },
     "execution_count": 12,
     "metadata": {},
     "output_type": "execute_result"
    }
   ],
   "source": [
    "hv.hamming(a,b)"
   ]
  },
  {
   "cell_type": "markdown",
   "id": "53381913-a395-4fb9-a0fb-a799ef51ed96",
   "metadata": {},
   "source": [
    "There are several ways to create hypervectors, and interested readers can check out by `dir(d0)`.\n",
    "\n",
    "For example, here is way to produce a random hyper-vector as determined by a numeric seed:"
   ]
  },
  {
   "cell_type": "code",
   "execution_count": 17,
   "id": "b03b434a-155a-4ba4-b108-f56429b80e1f",
   "metadata": {},
   "outputs": [],
   "source": [
    "c = d0.new_sparse_segmented_from_seed(api.MODEL_1M_10BIT, 1234, False)"
   ]
  },
  {
   "cell_type": "markdown",
   "id": "753c689c-41af-4559-b6a9-798ddefc7db1",
   "metadata": {},
   "source": [
    "The second argument is the seed for this hyper-vector: different seeds will produce uniquely differnt vectors.\n",
    "The third argument `invert` will invert the vector if set to `True`, which we don't want for now."
   ]
  },
  {
   "cell_type": "markdown",
   "id": "94904d8c-8b5c-4c94-9159-c6ec8b56d4f6",
   "metadata": {},
   "source": [
    "It's also trivial to verify this random vector is almost orthogonal to previous `a`:"
   ]
  },
  {
   "cell_type": "code",
   "execution_count": 14,
   "id": "20b618d7-4ae9-4478-a90e-8ca622cb8c91",
   "metadata": {},
   "outputs": [
    {
     "data": {
      "text/plain": [
       "2"
      ]
     },
     "execution_count": 14,
     "metadata": {},
     "output_type": "execute_result"
    }
   ],
   "source": [
    "hv.overlap(a,c)"
   ]
  },
  {
   "cell_type": "markdown",
   "id": "93aab7e4-16fc-4fa9-b058-95ee3603e79e",
   "metadata": {},
   "source": [
    "`hv` package also provides ways to generate hypervectors, as determined by a seed word."
   ]
  },
  {
   "cell_type": "code",
   "execution_count": 18,
   "id": "1edeb5d2-9365-473c-bef3-047e98061d7a",
   "metadata": {},
   "outputs": [
    {
     "data": {
      "text/plain": [
       "1"
      ]
     },
     "execution_count": 18,
     "metadata": {},
     "output_type": "execute_result"
    }
   ],
   "source": [
    "d = d0.new_sparse_segmented_from_seed_word(api.MODEL_1M_10BIT, \"random\", False)\n",
    "\n",
    "hv.overlap(a,d)"
   ]
  },
  {
   "cell_type": "markdown",
   "id": "a0f584c8-f615-4f81-a68a-d0e75b290dc4",
   "metadata": {},
   "source": [
    "The above `random` is just a random string, and different string will produce different vectors. However, if we use the identical string, the identical vector will be returned."
   ]
  },
  {
   "cell_type": "code",
   "execution_count": 20,
   "id": "2656e9df-3b35-4c35-9937-476aee9de52c",
   "metadata": {},
   "outputs": [
    {
     "data": {
      "text/plain": [
       "False"
      ]
     },
     "execution_count": 20,
     "metadata": {},
     "output_type": "execute_result"
    }
   ],
   "source": [
    "e = d0.new_sparse_segmented_from_seed_word(api.MODEL_1M_10BIT, \"RANDOM\", False)\n",
    "\n",
    "hv.equal(d,e)"
   ]
  },
  {
   "cell_type": "markdown",
   "id": "5b11ffa6-5638-4387-ae65-f2fb6bfed332",
   "metadata": {},
   "source": [
    "For hypervectors that were created via different contructors, their string representation can be slightly different."
   ]
  },
  {
   "cell_type": "code",
   "execution_count": 21,
   "id": "e6d7842c-2c88-48f9-b6f4-5858bdf2af1f",
   "metadata": {},
   "outputs": [
    {
     "data": {
      "text/plain": [
       "\"ss(m=MODEL_1M_10BIT, hash=0x3c60123f0a90a7cc, 'RANDOM', exp=1)\""
      ]
     },
     "execution_count": 21,
     "metadata": {},
     "output_type": "execute_result"
    }
   ],
   "source": [
    "str(e)"
   ]
  },
  {
   "cell_type": "markdown",
   "id": "0cbb326a-4cc9-4f3e-bf49-9035b623a0ca",
   "metadata": {},
   "source": [
    "## The bind and bundle operations"
   ]
  },
  {
   "cell_type": "markdown",
   "id": "30598fb1-e211-4ecb-a9a5-72b15092abbe",
   "metadata": {},
   "source": [
    "Now we can try bundle operation. \n",
    "\n",
    "`d0` (or in general, `hv.Domain` objects) provides convenience functions of `bind` and `bundle`.\n",
    "\n",
    "The first argument for `bundle` is the seed for bundle operation: different seeds will produce different but all conforming results."
   ]
  },
  {
   "cell_type": "code",
   "execution_count": 25,
   "id": "f965c5c9-5dc3-4de9-9c60-071a513cbdb2",
   "metadata": {},
   "outputs": [
    {
     "data": {
      "text/plain": [
       "(507, 518)"
      ]
     },
     "execution_count": 25,
     "metadata": {},
     "output_type": "execute_result"
    }
   ],
   "source": [
    "bundled = d0.bundle(0, a, b)\n",
    "\n",
    "hv.overlap(a, bundled), hv.overlap(b, bundled)"
   ]
  },
  {
   "cell_type": "markdown",
   "id": "4bfbd97b-3b9f-42a3-9074-d86596f3fdd3",
   "metadata": {},
   "source": [
    "As expected, the overlap is approximately half of the total cardinality (count of ON bits), for bundling of 2 hyper-vectors: the original vector `a` and `b` (with the model of `MODEL_1M_10BIT` has precisely 1024 ON bits."
   ]
  },
  {
   "cell_type": "markdown",
   "id": "ee548ad0-7a79-4765-afc2-d6b31fb7b7c6",
   "metadata": {},
   "source": [
    "Furthermore, we can try to bundle 3 hypervectors `a`, `b`, and `c`, like this:"
   ]
  },
  {
   "cell_type": "code",
   "execution_count": 29,
   "id": "8448a048-218d-48b4-8de0-42a7d232f497",
   "metadata": {},
   "outputs": [
    {
     "data": {
      "text/plain": [
       "(358, 320, 348)"
      ]
     },
     "execution_count": 29,
     "metadata": {},
     "output_type": "execute_result"
    }
   ],
   "source": [
    "bundled3 = d0.bundle(1, a, b, c)\n",
    "\n",
    "hv.overlap(a, bundled3), hv.overlap(b, bundled3), hv.overlap(c, bundled3)"
   ]
  },
  {
   "cell_type": "markdown",
   "id": "35963214-dd99-41b9-8065-4f07180906af",
   "metadata": {},
   "source": [
    "Another critical operation for hyper-dimensional vectors is `bind`."
   ]
  },
  {
   "cell_type": "code",
   "execution_count": 30,
   "id": "b565a8dd-b89e-4199-874a-41fd896f0a8f",
   "metadata": {},
   "outputs": [],
   "source": [
    "bound = d0.bind(a, b)"
   ]
  },
  {
   "cell_type": "markdown",
   "id": "4337fef5-cb5b-47b7-a67d-a17b3119d464",
   "metadata": {},
   "source": [
    "The bound vector will have almost no overlap with original vectors:"
   ]
  },
  {
   "cell_type": "code",
   "execution_count": 31,
   "id": "a0371b5e-22f8-49d6-a702-125aa8c25a70",
   "metadata": {},
   "outputs": [
    {
     "data": {
      "text/plain": [
       "(1, 0)"
      ]
     },
     "execution_count": 31,
     "metadata": {},
     "output_type": "execute_result"
    }
   ],
   "source": [
    "hv.overlap(bound, a), hv.overlap(bound, c)"
   ]
  },
  {
   "cell_type": "markdown",
   "id": "a48ca33b-deca-42f3-9df7-b0a498cd1f6b",
   "metadata": {},
   "source": [
    "In the next notebook, we will go through serialization of vectors between local Python module and remote services. Stay tuned."
   ]
  }
 ],
 "metadata": {
  "kernelspec": {
   "display_name": "Python 3 (ipykernel)",
   "language": "python",
   "name": "python3"
  },
  "language_info": {
   "codemirror_mode": {
    "name": "ipython",
    "version": 3
   },
   "file_extension": ".py",
   "mimetype": "text/x-python",
   "name": "python",
   "nbconvert_exporter": "python",
   "pygments_lexer": "ipython3",
   "version": "3.9.2"
  }
 },
 "nbformat": 4,
 "nbformat_minor": 5
}
