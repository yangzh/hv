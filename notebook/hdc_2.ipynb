{
 "cells": [
  {
   "cell_type": "markdown",
   "id": "765b54f6-bffb-4e97-85e7-8bc243ff838c",
   "metadata": {},
   "source": [
    "Before we start, import a few Python modules:"
   ]
  },
  {
   "cell_type": "code",
   "execution_count": 1,
   "id": "6c87c546-529b-4049-8cdd-a03b216831dd",
   "metadata": {},
   "outputs": [
    {
     "name": "stdout",
     "output_type": "stream",
     "text": [
      "GOMAXPROCS set to 128 for this invocation.\n"
     ]
    }
   ],
   "source": [
    "from kongming import api, hv\n",
    "from kongming.hv import helpers\n",
    "\n",
    "d0 = hv.d0()"
   ]
  },
  {
   "cell_type": "markdown",
   "id": "a6f3ddcd-50fd-4ffc-bb9d-39aa8e184f06",
   "metadata": {},
   "source": [
    "Also we make some preparations. `primitives` is a dict from alphabet (`a` to `z`) to random codes."
   ]
  },
  {
   "cell_type": "code",
   "execution_count": 2,
   "id": "8fc1578d-6f79-48c0-aa8e-43e4bbd7ad12",
   "metadata": {},
   "outputs": [
    {
     "data": {
      "text/plain": [
       "(\"ss(m=MODEL_1M_10BIT, hash=0x40fa56a18e54f291, 'a', exp=1)\",\n",
       " \"ss(m=MODEL_1M_10BIT, hash=0xabcc3adf6707dbf2, 'k', exp=1)\")"
      ]
     },
     "execution_count": 2,
     "metadata": {},
     "output_type": "execute_result"
    }
   ],
   "source": [
    "primitives={chr(letter): d0.new_sparse_segmented_from_seed_word(api.MODEL_1M_10BIT, chr(letter)) for letter in range(ord('a'), ord('z')+1)}\n",
    "\n",
    "str(primitives['a']), str(primitives['k'])"
   ]
  },
  {
   "cell_type": "markdown",
   "id": "78e1b2c1-c6d9-4ff9-9750-785b8f7e0ad7",
   "metadata": {},
   "source": [
    "# `bundle` and `bind` Operations"
   ]
  },
  {
   "cell_type": "markdown",
   "id": "43ef3608-ec69-4e60-b1e0-a54d70a86bd5",
   "metadata": {},
   "source": [
    "`d0` (or in general, `hv.Domain` objects) provides convenience functions of `bind` and `bundle`.\n",
    "\n",
    "The first argument for `bundle` is the seed for bundle operation: different seeds will produce different but all conforming results."
   ]
  },
  {
   "cell_type": "code",
   "execution_count": 3,
   "id": "46459d87-2f1f-4034-8d77-a92d3bf14281",
   "metadata": {},
   "outputs": [
    {
     "data": {
      "text/plain": [
       "(507, 518)"
      ]
     },
     "execution_count": 3,
     "metadata": {},
     "output_type": "execute_result"
    }
   ],
   "source": [
    "a, b = primitives['a'], primitives['b']\n",
    "bundled = d0.bundle(0, a, b)\n",
    "\n",
    "hv.overlap(a, bundled), hv.overlap(b, bundled)"
   ]
  },
  {
   "cell_type": "markdown",
   "id": "c0f73429-abf3-4a79-9531-5d3959b25f34",
   "metadata": {},
   "source": [
    "As expected, the overlap is approximately half of the total cardinality (count of ON bits), for bundling of 2 hyper-vectors: the original vector `a` and `b` (with the model of `MODEL_1M_10BIT` has precisely 1024 ON bits.\n",
    "\n",
    "Furthermore, we can try to bundle 3 hypervectors `a`, `b`, and `c`, like this:"
   ]
  },
  {
   "cell_type": "code",
   "execution_count": 4,
   "id": "2f46a457-b1fa-46af-b3d2-121db515ccaa",
   "metadata": {},
   "outputs": [
    {
     "data": {
      "text/plain": [
       "(356, 321, 349)"
      ]
     },
     "execution_count": 4,
     "metadata": {},
     "output_type": "execute_result"
    }
   ],
   "source": [
    "a, b, c = primitives['a'], primitives['b'], primitives['c']\n",
    "bundled3 = d0.bundle(1, a, b, c)\n",
    "\n",
    "hv.overlap(bundled3, a), hv.overlap(bundled3, b), hv.overlap(bundled3, c)"
   ]
  },
  {
   "cell_type": "markdown",
   "id": "bc941285-8b79-478b-8e14-88f5c9a54a97",
   "metadata": {},
   "source": [
    "Oh, did we mention that `bundle` operation can have weights associated with each operands?\n",
    "\n",
    "In this case, we use a helper function `helpers.weights` to pass in a Python list of weights."
   ]
  },
  {
   "cell_type": "code",
   "execution_count": 5,
   "id": "c75be0f5-fac9-4f7a-9336-991bd8c1a6f8",
   "metadata": {},
   "outputs": [
    {
     "data": {
      "text/plain": [
       "(225, 395, 406)"
      ]
     },
     "execution_count": 5,
     "metadata": {},
     "output_type": "execute_result"
    }
   ],
   "source": [
    "a, b, c = primitives['a'], primitives['b'], primitives['c']\n",
    "bundled_weighted = d0.bundle_weighted(1, helpers.weights([0.2, 0.4, 0.4]), primitives['a'], primitives['b'], primitives['c'])\n",
    "\n",
    "hv.overlap(bundled_weighted, a), hv.overlap(bundled_weighted, b), hv.overlap(bundled_weighted, c)"
   ]
  },
  {
   "cell_type": "markdown",
   "id": "54807812-58ca-43ce-b522-75a47f4f4a0c",
   "metadata": {},
   "source": [
    "In this case, you can easily verify the overlap is approximately distributed with respect to their weights."
   ]
  },
  {
   "cell_type": "markdown",
   "id": "2743b5ca-d01e-45fa-8338-02e0188c67fa",
   "metadata": {},
   "source": [
    "Another critical operation for hyper-dimensional vectors is `bind`. The bound vector will have almost no overlap with original vectors."
   ]
  },
  {
   "cell_type": "code",
   "execution_count": 6,
   "id": "1e67ebc2-54c9-480a-9a38-7fcb5106b902",
   "metadata": {},
   "outputs": [
    {
     "data": {
      "text/plain": [
       "(1, 0)"
      ]
     },
     "execution_count": 6,
     "metadata": {},
     "output_type": "execute_result"
    }
   ],
   "source": [
    "bound = d0.bind(a, b)\n",
    "\n",
    "hv.overlap(bound, a), hv.overlap(bound, b)"
   ]
  },
  {
   "cell_type": "markdown",
   "id": "640208e6-bbf3-43f5-9a0d-9d79e2a7338a",
   "metadata": {},
   "source": [
    "# Composite structures"
   ]
  },
  {
   "cell_type": "markdown",
   "id": "5030bc14-a4b0-47d2-9785-15d601ddb489",
   "metadata": {},
   "source": [
    "This section will introduce composite structures, such as sequences and sets."
   ]
  },
  {
   "cell_type": "markdown",
   "id": "d0949923-e507-4db6-929f-bff23cb79dd1",
   "metadata": {},
   "source": [
    "## Sets"
   ]
  },
  {
   "cell_type": "code",
   "execution_count": 7,
   "id": "19b182ba-c469-4e70-9037-07a17c9c75df",
   "metadata": {},
   "outputs": [
    {
     "data": {
      "text/plain": [
       "hint: SET\n",
       "model: MODEL_1M_10BIT\n",
       "set {\n",
       "  contains {\n",
       "    members {\n",
       "      sparse_segmented {\n",
       "        seed_word: \"a\"\n",
       "      }\n",
       "    }\n",
       "    members {\n",
       "      sparse_segmented {\n",
       "        seed_word: \"b\"\n",
       "      }\n",
       "    }\n",
       "    members {\n",
       "      sparse_segmented {\n",
       "        seed_word: \"c\"\n",
       "      }\n",
       "    }\n",
       "  }\n",
       "}"
      ]
     },
     "execution_count": 7,
     "metadata": {},
     "output_type": "execute_result"
    }
   ],
   "source": [
    "a, b, c = primitives['a'], primitives['b'], primitives['c']\n",
    "\n",
    "set0 = d0.new_set(primitives['a'], primitives['b'], primitives['c'])\n",
    "\n",
    "helpers.to_native_hbp(set0.proto_load())"
   ]
  },
  {
   "cell_type": "markdown",
   "id": "273b49e3-9faa-4116-a46c-a1f3d56a2957",
   "metadata": {},
   "source": [
    "Note at this time the composition has NOT happened: `set0` only records the fact that a set of `a`, `b`, and `c` is thus formed, and as the result, `Set.core()` returns an identity vector. "
   ]
  },
  {
   "cell_type": "code",
   "execution_count": 8,
   "id": "d4e8ceb9-6310-4b41-9ae7-1f848132bd40",
   "metadata": {},
   "outputs": [
    {
     "data": {
      "text/plain": [
       "(0, 'ss(m=MODEL_1M_10BIT, IDENTITY)')"
      ]
     },
     "execution_count": 8,
     "metadata": {},
     "output_type": "execute_result"
    }
   ],
   "source": [
    "set0.composition_seed(), str(set0.core())"
   ]
  },
  {
   "cell_type": "markdown",
   "id": "041c2bb0-030f-4bb6-9d1f-31d36413ed13",
   "metadata": {},
   "source": [
    "Use `Set.compose` to return a new composed object with a seed."
   ]
  },
  {
   "cell_type": "code",
   "execution_count": 9,
   "id": "94ec73ed-73a8-4048-8ce4-b6123030b606",
   "metadata": {},
   "outputs": [
    {
     "data": {
      "text/plain": [
       "hint: SET\n",
       "model: MODEL_1M_10BIT\n",
       "stable_hash: 7258081846772163338\n",
       "set {\n",
       "  seed: 100\n",
       "  contains {\n",
       "    members {\n",
       "      sparse_segmented {\n",
       "        seed_word: \"a\"\n",
       "      }\n",
       "    }\n",
       "    members {\n",
       "      sparse_segmented {\n",
       "        seed_word: \"b\"\n",
       "      }\n",
       "    }\n",
       "    members {\n",
       "      sparse_segmented {\n",
       "        seed_word: \"c\"\n",
       "      }\n",
       "    }\n",
       "  }\n",
       "}"
      ]
     },
     "execution_count": 9,
     "metadata": {},
     "output_type": "execute_result"
    }
   ],
   "source": [
    "set0_composed = set0.compose(100)\n",
    "\n",
    "helpers.to_native_hbp(set0_composed.proto_load())"
   ]
  },
  {
   "cell_type": "markdown",
   "id": "533b9824-a80c-4be0-b4c8-ac84cdcbf681",
   "metadata": {},
   "source": [
    "This is a bit subtle, but you can see `set0_composed` has the field of `seed` set (while `set0` doesn't), which indicate this instance has been composed.\n",
    "\n",
    "Furthermore, the underlying hyper-vector can be examined."
   ]
  },
  {
   "cell_type": "code",
   "execution_count": 10,
   "id": "0a0103c6-8780-48ac-9011-ad7e97944c1c",
   "metadata": {
    "scrolled": true
   },
   "outputs": [
    {
     "data": {
      "text/plain": [
       "model: MODEL_1M_10BIT\n",
       "stable_hash: 7258081846772163338\n",
       "sparse_segmented {\n",
       "  offsets: \"7\\355\\200<\\003\\031\\330\\276\\336\\013\\263{X\\037\\252{\\252\\240@\\242@\\020\\001!2MeW.\\332\\314x3b\\327\\270m\\025\\346\\273\\305\\251\\023\\343\\236\\037\\354\\216\\240\\ne\\3306\\003\\223\\264\\331\\364\\257\\032\\236q\\206nL\\233;Z6Kng>\\035&h\\333\\177\\033\\017\\266\\265\\037:\\235\\\\\\035\\317\\341\\236\\332]\\016\\216\\322A\\210P\\316\\347\\003\\207\\224:\\212\\325\\214~\\346\\355 0d> ;\\374+\\243>\\266\\030\\334\\372\\216M\\277\\3645\\344\\343\\024\\373\\317j.\\244*\\245\\031\\023\\221\\340Q\\340N\\216\\315\\310\\275\\033_\\200LO\\337\\217\\213\\330\\302T\\264\\260b\\3715\\337\\201\\3327\\253\\260B;\\024\\244C?Rd\\001@I\\'\\245\\220g\\327\\346\\270\\225t/\\342GK\\027&%\\323\\363\\276\\230\\231\\014^\\317@3\\336\\220\\215\\337\\273\\371\\306\\322\\354\\340\\230\\232\\357IT\\346,\\017 \\013\\275\\227\\327x\\212\\314\\373;\\327_x\\220\\377\\224\\224{:\\315f \\357\\330\\236r\\235\\035\\203[\\214z:$\\002\\351z\\226@m^\\303\\304\\256X\\346\\262\\330\\361\\025\\334\\310\\346\\254\\023d\\201\\356R\\3275,\\037\\356\\202\\222;\\304\\354`aQ\\334\\334\\024+GGI\\325tb\\323E\\023\\027|\\240\\232\\220\\364[k\\244l\\245:\\267I\\024\\320k\\325>\\032S\\313`\\027<\\315\\177DS+\\265\\326K\\304\\311tL\\330)\\270\\254\\370\\021\\246\\'\\014n!H\\2775\\345\\354\\t\\000\\366\\360c\\223\\250\\3367m\\377\\266Z\\3764A\\362Y\\345(\\304+\\214\\215P\\206\\222BL2\\352\\037\\262\\350\\215\\343\\300\\217\\353\\367\\231Hi\\024\\013\\305\\204\\246\\'y\\361\\230\\270.\\323\\244v\\213\\233\\201Rm:tG\\346\\206\\205\\023\\245\\325w\\204\\361m#\\360\\361\\213+\\325\\000\\007\\245\\014s\\325\\317\\002\\374\\020t\\372\\215\\364Kr\\257\\346:\\236\\367\\375\\003\\001`\\214g\\270\\314\\344\\214\\356YY\\\\\\366\\025E\\004\\276x}\\217A\\253\\254\\345\\024+@?\\205\\205\\350\\250\\324\\205d\\024\\262N|3?\\341\\276]g\\022k\\002g<=\\334\\016\\321I\\333p\\331Z\\037\\222\\2421r]\\377>e\\213T\\301\\366\\347w\\350Ed\\324\\003\\304\\376\\335|\\307\\247\\320l\\316*\\322W\\372S\\265\\373M\\027\\252\\000\\024\\207]\\331F\\227\\010\\036\\233\\005\\244L#\\344\\330\\344\\261<\\033e\\336C\\257N\\274Wuk\\3103q\\320A\\001^4\\212\\213\\2044\\027\\006k\\351\\217\\275+\\003\\353\\366\\200\\317Q\\225\\234\\274\\305J\\344\\262\\330\\361?{\\251j\\204\\314^\\266ta)\\213\\244\\311[\\212v\\211k\\271SeQ\\243\\205\\211`=\\t1\\203^\\315\\377\\304\\306\\246*s\\3507X\\321\\312?E\\303j\\335\\356:\\267\\201\\312\\364e\\335_\\262*\\004\\033\\367o\\006\\322\\341\\227\\342\\253\\304I\\360\\312*\\247\\017\\276\\257\\262\\230\\2034\\344\\344\\203\\005\\205\\311\\\"\\177\\2554\\304\\277\\251\\\".\\324\\340\\356?#\\314I\\366\\246H\\327\\322\\271\\001.\\245\\276) \\231@\\227\\300Y<\\246\\265\\256\\020\\322\\341\\204\\272\\226\\217\\034\\315 \\336ZM\\333\\'\\013\\327v\\326\\357U\\374G\\350\\014>\\203\\254\\334 \\213FP\\313\\224\\350j\\270\\252\\221\\225@w\\004~\\237\\226\\374\\365\\225h\\357\\315\\264}\\232~l\\203\\022\\\"\\353\\225\\377\\263\\277ohd\\353|_\\007\\345`\\267\\230.M\\027\\035\\212\\234\\364\\016\\341\\311\\222G\\231ZgX\\nH\\231\\027\\336\\r\\203\\237\\377\\225\\271\\234\\\"\\234:\\251$\\024tx@e,,\\010:M\\223\\027\\271\\242\\206\\rNJ]\\0362*\\352F!R\\371-1b\\26138w\\000l-M\\347\\233y\\364!\\323\\310\\255\\007g\\025\\236\\'r\\226\\270\\257Y\\202\\365\\034\\243O}\\376\\2741\\354\\302^\\r}\\034\\025\\274\\021(9\\255\\223\\304\\302:\\0370\\351\\265~\\200\\364j\\227\\216s\\317\\200;\\234fVP\\242Jbo%\\353\\n\\354N\\235\\212\\032A\\332lYt\\030\\233\\271,\\271S\\204e\\333\\010k\\201/\\020\\316uR\\365\\'H\\007\\344E\\001L0fwwr\\352\\211\\313R\\377\\375n\\232\\3622\\324\\351\\033cgr\\311\\323\\200\\025t\\320\\357\\376\\237\\247I\\342\\206\\376\\030\\307\\023\\232 w\\313[\\365^,\\242\\264\\032L\\374\\'\\243\\345\\301\\235\\226M{mO\\352\\3531\\n\\030\\356\\374h$-\\023\\317\\251;\\307\\020n\\230\\007\\016c\\243?:(\\027\\321\\374\\341\\262&c\\333\\344\\242>M5v,Mvp\\370> 7d\\335`\\254\\315\\304Tg\\333b\\246\\021}\\227\\250>\\200\\363\\330uH\\006E=\\316\\r\\276\\030\\n\\247\\331\\247\\206\\356|~\\214\\243\\217\\363C\\265\\020W\\2019\\350x\\0367\\303\\375\\003\\303\\223\\030aq0\\264\\256\\3036\\236q\\233%\\366\\325\\376\\310CX\\320\\232SP]&P7\\262\\302\\245\\232A )\\201l\\365\\232\\253\\223\\n\\2642\\007$anw\\325j\\313%\\333l|\\tSY5\\207A\\332\\361A#L\\266;\\030m\\210b\\274NU\\014%\\000Y\\027%\\237\\273\\317?\\256aZ\\237\\001\\325\\270\\201\\005I\\246\\371\\340Z(\\263\\212\\020\\361[Wn\\233\\247\\2768\"\n",
       "}"
      ]
     },
     "execution_count": 10,
     "metadata": {},
     "output_type": "execute_result"
    }
   ],
   "source": [
    "helpers.to_native_hbp(set0_composed.core().proto_load())"
   ]
  },
  {
   "cell_type": "markdown",
   "id": "cd51cb50-90a6-4a1d-93ef-a7953ea28877",
   "metadata": {},
   "source": [
    "Once composed, each constituent should have significant overlap with the set itself.\n",
    "\n",
    "However, a bit of detail here. The set code $S = C_{set} \\otimes (\\sum_{\\oplus, i} C_i)$: we need to release the set marker $C_{set}$ from the set code $S$ first."
   ]
  },
  {
   "cell_type": "code",
   "execution_count": 11,
   "id": "b3c8ed46-4665-45df-b3f8-29d9af758334",
   "metadata": {},
   "outputs": [
    {
     "data": {
      "text/plain": [
       "(354, 335, 337)"
      ]
     },
     "execution_count": 11,
     "metadata": {},
     "output_type": "execute_result"
    }
   ],
   "source": [
    "a, b, c = primitives['a'], primitives['b'], primitives['c']\n",
    "\n",
    "marker = d0.new_sparse_segmented_prewired(api.MODEL_1M_10BIT, api.SET_MARKER)\n",
    "combined = d0.release(set0_composed, marker)\n",
    "hv.overlap(combined, a), hv.overlap(combined, b), hv.overlap(combined, c)"
   ]
  },
  {
   "cell_type": "markdown",
   "id": "2e6381cf-e3f4-4e68-805a-c55a80c7d069",
   "metadata": {},
   "source": [
    "## Sequences"
   ]
  },
  {
   "cell_type": "markdown",
   "id": "8c7ac57d-b398-4dcf-aa16-c1f679471f22",
   "metadata": {},
   "source": [
    "Sequences are a collection of codes with enforced ordering.\n",
    "\n",
    "Let's proceed with some examples."
   ]
  },
  {
   "cell_type": "code",
   "execution_count": 12,
   "id": "c6841bbb-6436-4608-80e7-757095dd6d3c",
   "metadata": {},
   "outputs": [
    {
     "data": {
      "text/plain": [
       "hint: SEQUENCE\n",
       "model: MODEL_1M_10BIT\n",
       "sequence {\n",
       "  contains {\n",
       "    members {\n",
       "      sparse_segmented {\n",
       "        seed_word: \"f\"\n",
       "      }\n",
       "    }\n",
       "    members {\n",
       "      sparse_segmented {\n",
       "        seed_word: \"i\"\n",
       "      }\n",
       "    }\n",
       "    members {\n",
       "      sparse_segmented {\n",
       "        seed_word: \"r\"\n",
       "      }\n",
       "    }\n",
       "    members {\n",
       "      sparse_segmented {\n",
       "        seed_word: \"s\"\n",
       "      }\n",
       "    }\n",
       "    members {\n",
       "      sparse_segmented {\n",
       "        seed_word: \"t\"\n",
       "      }\n",
       "    }\n",
       "  }\n",
       "}"
      ]
     },
     "execution_count": 12,
     "metadata": {},
     "output_type": "execute_result"
    }
   ],
   "source": [
    "first = d0.new_sequence(\n",
    "    primitives['f'], primitives['i'], primitives['r'], primitives['s'], primitives['t'])\n",
    "\n",
    "helpers.to_native_hbp(first.proto_load())"
   ]
  },
  {
   "cell_type": "markdown",
   "id": "1b668e6a-49b5-41c6-ac79-0059d886279e",
   "metadata": {},
   "source": [
    "By close examination, you can see this is a `SEQUENCE` object, with no seed: it's a non-composed sequence that only records the compositional structure and constituents.\n",
    "\n",
    "Composed sequence can be constructed by an additional call to `Sequence.compose`, with a seed. Composition by different seeds will be all conforming and valid."
   ]
  },
  {
   "cell_type": "code",
   "execution_count": 13,
   "id": "1b9604b5-4b35-43ff-a06c-843e3487b429",
   "metadata": {},
   "outputs": [
    {
     "data": {
      "text/plain": [
       "hint: SEQUENCE\n",
       "model: MODEL_1M_10BIT\n",
       "stable_hash: 16008683035129884237\n",
       "sequence {\n",
       "  seed: 5\n",
       "  contains {\n",
       "    members {\n",
       "      sparse_segmented {\n",
       "        seed_word: \"f\"\n",
       "      }\n",
       "    }\n",
       "    members {\n",
       "      sparse_segmented {\n",
       "        seed_word: \"i\"\n",
       "      }\n",
       "    }\n",
       "    members {\n",
       "      sparse_segmented {\n",
       "        seed_word: \"r\"\n",
       "      }\n",
       "    }\n",
       "    members {\n",
       "      sparse_segmented {\n",
       "        seed_word: \"s\"\n",
       "      }\n",
       "    }\n",
       "    members {\n",
       "      sparse_segmented {\n",
       "        seed_word: \"t\"\n",
       "      }\n",
       "    }\n",
       "  }\n",
       "}"
      ]
     },
     "execution_count": 13,
     "metadata": {},
     "output_type": "execute_result"
    }
   ],
   "source": [
    "first_composed = first.compose(5)\n",
    "\n",
    "helpers.to_native_hbp(first_composed.proto_load())"
   ]
  },
  {
   "cell_type": "markdown",
   "id": "b7cf37e1-0d3b-46be-8a85-6451bd73180e",
   "metadata": {},
   "source": [
    "The underlying hypervector can also be examined. Note the underlying hypervector will lose the compositional structure and every constituents are \"merged\" and gone."
   ]
  },
  {
   "cell_type": "code",
   "execution_count": 14,
   "id": "19f822e3-7ced-413a-bed6-ba8897cff8f0",
   "metadata": {},
   "outputs": [
    {
     "data": {
      "text/plain": [
       "model: MODEL_1M_10BIT\n",
       "stable_hash: 16008683035129884237\n",
       "sparse_segmented {\n",
       "  offsets: \"r2k\\214\\234\\n^\\333\\030\\0206\\300$t4x\\247\\227`\\2459h\\\\\\027\\312\\341\\330\\317\\271\\205*\\247\\330\\335\\332\\371\\317\\300\\266(\\010\\264`\\211:\\344vRg\\301y\\304\\337m\\031x(\\357V\\033\\\"\\210F\\271+u\\204\\245_\\'\\356\\340\\014\\215\\304\\025\\363\\377^B\\242\\224\\357B\\255F\\2513\\206jeZ\\344j\\350\\332\\211^V\\246\\371W\\372\\362\\233-f\\031\\344\\243\\374\\256k\\200+2m\\356t8\\350\\251cb \\346\\214Ek\\244\\306\\036\\230\\376\\2073\\330\\016\\212\\t0\\315\\035\\231\\205\\275G\\006\\316d~BU\\300\\304\\267T\\346\\352Q\\n\\241r\\002\\325B\\351!\\302l\\345.DT\\271j\\325FB\\261\\243\\005#g\\227\\004l\\356^&\\260\\272\\260WV\\336\\n\\305\\377\\245i6\\264\\274\\026\\323Y\\r\\355\\254\\343\\305,\\364\\353.\\256\\217\\027\\022\\006\\006L\\\\\\221\\335\\rR\\253k\\3363\\023\\201P\\335\\tj\\346\\366\\351\\360\\354G\\240\\001\\310m\\007\\203Rq\\276\\342v\\033C\\033{\\345#\\315%i\\362\\225\\206.\\261\\236\\212\\377\\216\\246zg\\320\\256\\342E\\341\\221\\254z\\353\\360\\202u\\315WJ\\021\\337\\030\\264\\221\\005_c\\343\\032\\000&\\202\\2277\\217u\\272\\356v\\367\\246\\014`\\316\\3313vF\\343!\\270K\\317\\260\\265\\\\pH\\251,\\010;\\222\\300\\336\\342\\341\\275\\373\\257\\031/`\\2156\\231\\377\\370A\\016\\200hWa\\023#\\251\\203\\357\\344\\365\\314\\237y4\\006\\234\\001q8G8\\245\\324\\027\\354\\327rt\\265a\\'8\\314C\\306\\275\\342\\311Q\\\"\\267\\310H\\265\\3757\\263\\337\\'\\2620\\263\\\"@g\\320\\244\\035`\\323)\\205}\\202\\325\\342\\203P\\303\\273\\375\\037A.\\315\\257+\\344S\\370\\306\\367;c\\362\\243q\\025\\205\\365\\344!\\245!\\276\\325\\362c\\240\\016~\\332T\\327\\026 \\336\\237C]{k\\220\\367uo\\177)/]|\\237;0O\\n\\022o\\346d\\020Z\\344<\\327ur\\274\\335\\261\\347\\026-\\210e\\2213A\\212)\\216\\210E\\333?\\233\\331\\302D\\366Z\\212\\306o\\2019\\327\\207E\\256\\223\\314\\324\\265IR\\234\\347\\320qD\\200\\225\\315C\\376+\\351K\\263W\\320XL\\373\\000\\241}pN\\337\\341j_\\325\\315\\326LoQ\\260\\275\\226CB@Zx\\255x\\210\\321\\'\\001]\\330\\262!\\001z\\202\\210\\315\\327u\\362\\227\\324Wp\\236%\\000\\342 J\\374\\2075T\\n\\361\\\\Sk&\\340\\257\\275\\'p\\224\\257iF\\374\\027\\273\\037X\\246\\003E\\323r~\\300\\027h\\323\\232c\\247p\\257\\322Z>A<\\217|\\252A\\030\\345\\360\\'C\\024\\201\\242\\233\\307Dn\\342\\221\\2169\\345B\\314\\'\\276*\\032\\203\\331;\\330XA\\256\\257\\346W\\374F\\327\\276*\\260\\262\\022\\246\\201\\267\\031\\205\\235\\350\\220?\\206\\274\\313\\353\\025f\\023n\\254{:\\032Y\\306&\\303w\\0009\\240\\230;b\\200x\\2672\\367\\362\\234g\\341\\002\\273<\\362\\272\\234\\252f\\200O\\2602\\301\\334&\\\"\\334\\033\\211cq\\327Yf\\335\\320\\000\\307<\\207(\\267L\\250UYr\\320\\245\\017\\021/\\214\\325#5/K\\235\\332%H\\373\\342\\362\\304u\\253R\\212Lo\\217u\\272\\327\\013\\010\\\"\\030\\266\\003\\251\\003Sm6FF9\\'\\215z\\007\\361O\\321\\033\\357\\033\\222V\\0172\\254\\301k\\036\\223\\204\\321_\\014\\372\\023\\226\\374\\301Sv./\\333\\371\\177Y\\341H\\266\\210\\333\\234\\220\\177\\204\\337z\\252M\\336_\\310\\210\\321\\305\\305}\\316\\005\\214\\264\\245\\361qR\\320C\\251c\\275Z\\247[\\342\\305\\013_/\\316\\237\\340 \\014\\036mx\\032\\270}\\317\\335\\367\\3616PU[\\273\\027\\334\\317%\\202\\311\\337\\\\\\332/\\032\\264\\177\\004\\235\\270h\\311\\320\\2006\\371\\213\\237\\372\\033\\322\\336p\\373\\3169B-\\322\\204r\\003\\345\\240\\313^\\023f\\000\\360\\355\\315]\\262\\000\\273\\300\\260\\020\\305EL\\2401\\000\\261\\025_=\\374#g,\\026\\352\\004u\\256z~`c\\350\\200D\\261;\\362\\242\\217\\210$\\301b(\\032\\367OJ\\026\\001\\3073\\20756\\372\\002\\272Y\\001f\\277\\346\\206\\247\\257?\\314\\362\\203=yFz\\033\\365n\\242\\212t/\\336eA\\032%\\230UO\\356\\037\\017\\344jAS+R\\211,\\206\\\"\\025\\317*\\337\\217j\\353\\020\\r\\3237QU\\326Y\\232\\346\\373\\350\\243\\033z\\310\\301\\024\\t\\211\\005e\\252\\322\\026\\271\\251\\330\\215\\375\\376l\\303\\025X\\207I\\270\\340\\351\\033\\\"\\\"\\261*\\003\\370\\232\\242y\\026\\037bVU\\2448\\261\\335O\\324\\274\\035u\\003j\\324\\267S\\336trf\\324\\022t\\213<\\365\\035e\\216\\262m\\014\\201\\310b\\350\\275\\323Et\\346\\254\\224\\331\\271\\211\\227E\\327\\001\\210\\326j\\203_\\377\\305v8\\312\\215\\t\\321\\354\\030\\220~\\340.z\\010\\177\\234\\002\\230\\217\\007\\214:0\\224\\321\\035\\216\\274\\037v\\027\\264\\277\\314F74\\3323,\\1770\\336B\\242bo\\366\\317\\177]o\\t\\032\\351\\206/\\203\\001\\250J\\003\\330\\302\\367\\266\\002\\365\\250\\336M\\377\\354xH\\306M\\362}\\265^~\\235\\21729\\331\\304@\\322&4m\\020\\326\\305\\207\\326tR\\341\\227\\240\\3378\\250f\"\n",
       "}"
      ]
     },
     "execution_count": 14,
     "metadata": {},
     "output_type": "execute_result"
    }
   ],
   "source": [
    "helpers.to_native_hbp(first_composed.core().proto_load())"
   ]
  },
  {
   "cell_type": "markdown",
   "id": "5747eef7-40a5-4310-9cd6-c7418ff8dfda",
   "metadata": {},
   "source": [
    "Each member should have significant overlap with the resulted sequence code.\n",
    "\n",
    "Again, the sequence code $S = C_{seq} \\otimes (\\sum_{\\oplus, i} C_i \\otimes C^{i}_{step})$: we need to release the positional marker $C^{i}_{step}$ and the overall sequence marker $C_{seq}$ from the sequence code $S$ first. \n",
    "\n",
    "The overlap should be approximately $1/5$, since we have 5 members in the sequence."
   ]
  },
  {
   "cell_type": "code",
   "execution_count": 15,
   "id": "fe36f1bf-adf5-4e17-a8b7-ace012728c57",
   "metadata": {},
   "outputs": [
    {
     "data": {
      "text/plain": [
       "(230, 190, 190, 186)"
      ]
     },
     "execution_count": 15,
     "metadata": {},
     "output_type": "execute_result"
    }
   ],
   "source": [
    "marker = d0.new_sparse_segmented_prewired(api.MODEL_1M_10BIT, api.SEQUENCE_MARKER)\n",
    "step = d0.new_sparse_segmented_prewired(api.MODEL_1M_10BIT, api.STEP)\n",
    "stripped = d0.release(first_composed, marker)\n",
    "\n",
    "hv.overlap(stripped, primitives['f']), hv.overlap(stripped, d0.bind(primitives['i'], step)), hv.overlap(stripped, d0.bind(primitives['r'], step.power(2))), hv.overlap(stripped, d0.bind(primitives['s'], step.power(3)))"
   ]
  },
  {
   "cell_type": "markdown",
   "id": "9ec2d59a-a4af-4219-a057-e82433abee68",
   "metadata": {},
   "source": [
    "## Necklaces and knots"
   ]
  },
  {
   "cell_type": "markdown",
   "id": "0679bb99-7e18-4dba-a8e0-5958b5adfee0",
   "metadata": {},
   "source": [
    "We can even record the compositional structure for the operation of `bundle` and `bind`. "
   ]
  },
  {
   "cell_type": "code",
   "execution_count": 16,
   "id": "b853fe9c-cf65-41a4-a67f-b857e22cdf4d",
   "metadata": {},
   "outputs": [
    {
     "data": {
      "text/plain": [
       "hint: KNOT\n",
       "model: MODEL_1M_10BIT\n",
       "stable_hash: 12572121051728929346\n",
       "knot {\n",
       "  parts {\n",
       "    sparse_segmented {\n",
       "      seed_word: \"a\"\n",
       "    }\n",
       "  }\n",
       "  parts {\n",
       "    sparse_segmented {\n",
       "      seed_word: \"b\"\n",
       "    }\n",
       "  }\n",
       "  parts {\n",
       "    sparse_segmented {\n",
       "      seed_word: \"c\"\n",
       "    }\n",
       "  }\n",
       "}"
      ]
     },
     "execution_count": 16,
     "metadata": {},
     "output_type": "execute_result"
    }
   ],
   "source": [
    "knot = d0.new_knot(primitives['a'], primitives['b'], primitives['c'])\n",
    "\n",
    "helpers.to_native_hbp(knot.proto_load())"
   ]
  },
  {
   "cell_type": "markdown",
   "id": "839be330-6073-4a05-9a00-653dbddf2934",
   "metadata": {},
   "source": [
    "`hv.Knot` faithfully records the `bind` operation (and its operands). \n",
    "\n",
    "The underlying value from `knot` is identical to the result if we were to `bind` individual codes together.\n",
    "There is no concept of composed vs non-composed as no seed will be needed."
   ]
  },
  {
   "cell_type": "code",
   "execution_count": 17,
   "id": "27aaec30-1f6b-40ed-96ce-962555132c2e",
   "metadata": {},
   "outputs": [
    {
     "data": {
      "text/plain": [
       "(True, True)"
      ]
     },
     "execution_count": 17,
     "metadata": {},
     "output_type": "execute_result"
    }
   ],
   "source": [
    "bound = d0.bind(primitives['a'], primitives['b'], primitives['c'])\n",
    "\n",
    "hv.equal(bound, knot), hv.equal(bound, knot.core())"
   ]
  },
  {
   "cell_type": "markdown",
   "id": "af140778-bfe2-4429-a4df-283d775068e9",
   "metadata": {},
   "source": [
    "`hv.Necklace` faithfully records the `bundle` operation and its operands. "
   ]
  },
  {
   "cell_type": "code",
   "execution_count": 18,
   "id": "c6596f82-25d1-4f34-8ce7-8212b23454f9",
   "metadata": {},
   "outputs": [
    {
     "data": {
      "text/plain": [
       "hint: NECKLACE\n",
       "model: MODEL_1M_10BIT\n",
       "stable_hash: 14808825802167636548\n",
       "necklace {\n",
       "  seed: 10\n",
       "  pearls {\n",
       "    members {\n",
       "      sparse_segmented {\n",
       "        seed_word: \"a\"\n",
       "      }\n",
       "    }\n",
       "    members {\n",
       "      sparse_segmented {\n",
       "        seed_word: \"b\"\n",
       "      }\n",
       "    }\n",
       "    members {\n",
       "      sparse_segmented {\n",
       "        seed_word: \"c\"\n",
       "      }\n",
       "    }\n",
       "    members {\n",
       "      sparse_segmented {\n",
       "        seed_word: \"d\"\n",
       "      }\n",
       "    }\n",
       "  }\n",
       "}"
      ]
     },
     "execution_count": 18,
     "metadata": {},
     "output_type": "execute_result"
    }
   ],
   "source": [
    "necklace = d0.new_necklace(10, primitives['a'], primitives['b'], primitives['c'], primitives['d'])\n",
    "\n",
    "helpers.to_native_hbp(necklace.proto_load())"
   ]
  },
  {
   "cell_type": "code",
   "execution_count": 19,
   "id": "01ea2136-0c59-4730-85dd-42ce1ff9d023",
   "metadata": {},
   "outputs": [
    {
     "data": {
      "text/plain": [
       "(True, True)"
      ]
     },
     "execution_count": 19,
     "metadata": {},
     "output_type": "execute_result"
    }
   ],
   "source": [
    "bundled = d0.bundle(10, primitives['a'], primitives['b'], primitives['c'], primitives['d'])\n",
    "\n",
    "hv.equal(bundled, necklace), hv.equal(bundled, necklace.core())"
   ]
  },
  {
   "cell_type": "markdown",
   "id": "213f722a-0ca6-4d99-aec4-18ded39cccac",
   "metadata": {},
   "source": [
    "Unlike compositional structures such as sets and sequences, `knot` and `necklace` is always composed, since seed (if any) is always supplied during construction."
   ]
  },
  {
   "cell_type": "markdown",
   "id": "ddc81e65-97bd-4e51-9ef5-d26d0f311966",
   "metadata": {},
   "source": [
    "For adventurous readers, `hv.Domain` also has `new_weighted_necklace()`, which takes `seed`, normalized weights and a list of operands. The resulted `hv.Necklace` instance will faithfully record a weighted bundling operation."
   ]
  },
  {
   "cell_type": "markdown",
   "id": "b847296e-76c8-4ba2-a842-313bc7532598",
   "metadata": {},
   "source": [
    "# Online learners"
   ]
  },
  {
   "cell_type": "markdown",
   "id": "a10be6be-793f-483c-8a2f-c0edebd08f2e",
   "metadata": {},
   "source": [
    "`hv.Learner` is the online learner, as described in the arXiv paper."
   ]
  },
  {
   "cell_type": "code",
   "execution_count": 20,
   "id": "c9454086-a7ba-4b9d-9ac1-6fa8a4467c84",
   "metadata": {},
   "outputs": [
    {
     "data": {
      "text/plain": [
       "'ss(m=MODEL_1M_10BIT, IDENTITY)'"
      ]
     },
     "execution_count": 20,
     "metadata": {},
     "output_type": "execute_result"
    }
   ],
   "source": [
    "l = d0.new_learner(api.MODEL_1M_10BIT, 50)\n",
    "\n",
    "str(l.core())"
   ]
  },
  {
   "cell_type": "markdown",
   "id": "1c2a1d07-b69b-413d-984f-b9dbfddcc304",
   "metadata": {},
   "source": [
    "The underlying code (which can be retrieved via `.core()`) for a brand-new learner is the identity vector. It will be replaced completely by any incoming code."
   ]
  },
  {
   "cell_type": "code",
   "execution_count": 21,
   "id": "cc637d52-26e2-41e2-b9c4-195480162b15",
   "metadata": {},
   "outputs": [
    {
     "data": {
      "text/plain": [
       "('ss(m=MODEL_1M_10BIT, hash=0x40fa56a18e54f291)', True)"
      ]
     },
     "execution_count": 21,
     "metadata": {},
     "output_type": "execute_result"
    }
   ],
   "source": [
    "l.on_observation(primitives['a'])\n",
    "\n",
    "str(l.core()), hv.equal(l.core(), primitives['a'])"
   ]
  },
  {
   "cell_type": "code",
   "execution_count": 22,
   "id": "6a66a8cc-9024-4b8f-8064-c17c7602263a",
   "metadata": {},
   "outputs": [
    {
     "data": {
      "text/plain": [
       "(342, 353, 331)"
      ]
     },
     "execution_count": 22,
     "metadata": {},
     "output_type": "execute_result"
    }
   ],
   "source": [
    "a, b, c = primitives['a'], primitives['b'], primitives['c']\n",
    "l.on_observation(b)\n",
    "l.on_observation(c)\n",
    "\n",
    "averaged = l.core()\n",
    "hv.overlap(averaged, a), hv.overlap(averaged, b), hv.overlap(averaged, c)"
   ]
  },
  {
   "cell_type": "markdown",
   "id": "4530b5af-ab6c-4dae-91be-5f1e99ab6521",
   "metadata": {},
   "source": [
    "This running-average learner has the result that is 1/3 overlap with `a`, `b` and `c`."
   ]
  },
  {
   "cell_type": "markdown",
   "id": "ccbd6388-a8fa-4baf-8030-41b00cd6d3c9",
   "metadata": {},
   "source": [
    "If the incoming data stream contains another occurance of `a`, overall `a` appeared 2 / 4 times, while `b` and `c` appeared once."
   ]
  },
  {
   "cell_type": "code",
   "execution_count": 23,
   "id": "30af8b0b-6206-49d9-bb61-e730e2d6a036",
   "metadata": {},
   "outputs": [
    {
     "data": {
      "text/plain": [
       "(504, 264, 258)"
      ]
     },
     "execution_count": 23,
     "metadata": {},
     "output_type": "execute_result"
    }
   ],
   "source": [
    "a = primitives['a']\n",
    "l.on_observation(a)\n",
    "\n",
    "averaged = l.core()\n",
    "hv.overlap(averaged, a), hv.overlap(averaged, b), hv.overlap(averaged, c)"
   ]
  }
 ],
 "metadata": {
  "kernelspec": {
   "display_name": "Python 3 (ipykernel)",
   "language": "python",
   "name": "python3"
  },
  "language_info": {
   "codemirror_mode": {
    "name": "ipython",
    "version": 3
   },
   "file_extension": ".py",
   "mimetype": "text/x-python",
   "name": "python",
   "nbconvert_exporter": "python",
   "pygments_lexer": "ipython3",
   "version": "3.9.2"
  }
 },
 "nbformat": 4,
 "nbformat_minor": 5
}
