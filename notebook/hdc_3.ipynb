{
 "cells": [
  {
   "cell_type": "markdown",
   "id": "b198639e-5d71-4834-aa8b-d7773d51f56f",
   "metadata": {},
   "source": [
    "Again, before start, let's import a few Python modules.\n",
    "\n",
    "This time we will focus on a new module of `kongming.memory`."
   ]
  },
  {
   "cell_type": "code",
   "execution_count": 1,
   "id": "14ad6377-fcf0-4892-9dc1-6939d5d7c87f",
   "metadata": {},
   "outputs": [],
   "source": [
    "from kongming import api, hv, memory \n",
    "from kongming.hv import helpers\n",
    "\n",
    "d0 = hv.d0()"
   ]
  },
  {
   "cell_type": "markdown",
   "id": "a5e1896a-515c-4fa7-9b83-79759122fd2c",
   "metadata": {},
   "source": [
    "Like we did before, we generate some primitive random hypervectors."
   ]
  },
  {
   "cell_type": "code",
   "execution_count": 2,
   "id": "e79e078e-6b52-46f5-9b2b-a188efbec1d5",
   "metadata": {},
   "outputs": [
    {
     "data": {
      "text/plain": [
       "('a', 'k')"
      ]
     },
     "execution_count": 2,
     "metadata": {},
     "output_type": "execute_result"
    }
   ],
   "source": [
    "primitives={chr(letter): d0.new_sparse_segmented_from_seed_word(api.MODEL_1M_10BIT, chr(letter)) for letter in range(ord('a'), ord('z')+1)}\n",
    "\n",
    "str(primitives['a']), str(primitives['k'])"
   ]
  },
  {
   "cell_type": "markdown",
   "id": "00a93b59-8f91-4a1e-94d4-1495ee62556b",
   "metadata": {},
   "source": [
    "# Working with ChunkPickers"
   ]
  },
  {
   "cell_type": "markdown",
   "id": "34919ea1-114a-4444-8f91-327138cfc214",
   "metadata": {},
   "source": [
    "`memory.ChunkPickers`, as its name suggests, are pre-defined logic that selects and picks chunks, which are self-contained unit for a single meaningful unit. For example, we can pick constituents from a composite code representing a sequence, or we can pick nearby registered chunks from a given probe."
   ]
  },
  {
   "cell_type": "code",
   "execution_count": 3,
   "id": "44a8a3c3-6ae4-4275-802b-73bad13cebd1",
   "metadata": {},
   "outputs": [
    {
     "data": {
      "text/plain": [
       "hint: SEQUENCE\n",
       "model: MODEL_1M_10BIT\n",
       "stable_hash: 7016629907439205749\n",
       "sequence {\n",
       "  seed: 1\n",
       "  members {\n",
       "    contains {\n",
       "      model: MODEL_1M_10BIT\n",
       "      sparse_segmented {\n",
       "        seed_word: \"w\"\n",
       "      }\n",
       "    }\n",
       "    contains {\n",
       "      model: MODEL_1M_10BIT\n",
       "      sparse_segmented {\n",
       "        seed_word: \"o\"\n",
       "      }\n",
       "    }\n",
       "    contains {\n",
       "      model: MODEL_1M_10BIT\n",
       "      sparse_segmented {\n",
       "        seed_word: \"r\"\n",
       "      }\n",
       "    }\n",
       "    contains {\n",
       "      model: MODEL_1M_10BIT\n",
       "      sparse_segmented {\n",
       "        seed_word: \"l\"\n",
       "      }\n",
       "    }\n",
       "    contains {\n",
       "      model: MODEL_1M_10BIT\n",
       "      sparse_segmented {\n",
       "        seed_word: \"d\"\n",
       "      }\n",
       "    }\n",
       "    checksum: 18116954493655476081\n",
       "  }\n",
       "}"
      ]
     },
     "execution_count": 3,
     "metadata": {},
     "output_type": "execute_result"
    }
   ],
   "source": [
    "world = d0.new_sequence(1, primitives['w'], primitives['o'], primitives['r'], primitives['l'], primitives['d']).compose(1)\n",
    "\n",
    "helpers.to_native_hbp(world.proto_load())"
   ]
  },
  {
   "cell_type": "markdown",
   "id": "f86b26b9-4ae1-4d17-8d75-c2e25a41c114",
   "metadata": {},
   "source": [
    "The above `world` itself is a composed `hv.Sequence` instance, and you can think of it as a sequence code for the word `world`.\n",
    "\n",
    "To recover individual members (`w`, `o`, `r`, `l` and `d`), we can use a instance `mp` of type `memory.sequence_members`."
   ]
  },
  {
   "cell_type": "code",
   "execution_count": 4,
   "id": "eafc3587-1841-4441-ae39-bc7f122b37b4",
   "metadata": {},
   "outputs": [
    {
     "data": {
      "text/plain": [
       "seq_members_of {\n",
       "  sequence {\n",
       "    chunk_literal {\n",
       "      semantic {\n",
       "        hint: SEQUENCE\n",
       "        model: MODEL_1M_10BIT\n",
       "        stable_hash: 7016629907439205749\n",
       "        sequence {\n",
       "          seed: 1\n",
       "          members {\n",
       "            contains {\n",
       "              model: MODEL_1M_10BIT\n",
       "              sparse_segmented {\n",
       "                seed_word: \"w\"\n",
       "              }\n",
       "            }\n",
       "            contains {\n",
       "              model: MODEL_1M_10BIT\n",
       "              sparse_segmented {\n",
       "                seed_word: \"o\"\n",
       "              }\n",
       "            }\n",
       "            contains {\n",
       "              model: MODEL_1M_10BIT\n",
       "              sparse_segmented {\n",
       "                seed_word: \"r\"\n",
       "              }\n",
       "            }\n",
       "            contains {\n",
       "              model: MODEL_1M_10BIT\n",
       "              sparse_segmented {\n",
       "                seed_word: \"l\"\n",
       "              }\n",
       "            }\n",
       "            contains {\n",
       "              model: MODEL_1M_10BIT\n",
       "              sparse_segmented {\n",
       "                seed_word: \"d\"\n",
       "              }\n",
       "            }\n",
       "            checksum: 18116954493655476081\n",
       "          }\n",
       "        }\n",
       "      }\n",
       "    }\n",
       "  }\n",
       "}"
      ]
     },
     "execution_count": 4,
     "metadata": {},
     "output_type": "execute_result"
    }
   ],
   "source": [
    "mp = memory.sequence_members(\"\", memory.with_semantic(world), 0, 0)\n",
    "\n",
    "helpers.to_native_picker(mp.proto_load())"
   ]
  },
  {
   "cell_type": "markdown",
   "id": "9355d17e-e165-4d73-83c3-bafb2d3a9cbd",
   "metadata": {},
   "source": [
    "It has to be noted that the input for `memory.sequence_members` doesn't have to be the fully composed sequence code. Even with a flattened code (`world.core()`), the associative index should enable this code picker to do the right job. "
   ]
  },
  {
   "cell_type": "code",
   "execution_count": null,
   "id": "6df3558c-8913-4b05-9e90-30618a27af02",
   "metadata": {
    "scrolled": true
   },
   "outputs": [],
   "source": [
    "mp0 = memory.sequence_members(\"\", memory.with_semantic(world.core()), 0, 0)\n",
    "\n",
    "helpers.to_native_picker(mp0.proto_load())"
   ]
  },
  {
   "cell_type": "markdown",
   "id": "c09a75ed-b63a-41ba-b3ef-7fdf7c335fe0",
   "metadata": {},
   "source": [
    "Notice the sequence codes from both `mp` and `mp1` are identical (from their `stable_hash`), and should return the same results."
   ]
  },
  {
   "cell_type": "markdown",
   "id": "bbac3307-1e0f-450b-bc70-20824a610676",
   "metadata": {},
   "source": [
    "# Interacts with memory"
   ]
  },
  {
   "cell_type": "markdown",
   "id": "211036bb-b569-4ed9-88e4-8059fdab0acb",
   "metadata": {},
   "source": [
    "Once we have a good understanding of how hypervectors and their interactions, the next logical step is to store and retrieve them from a memory. \n",
    "\n",
    "Memory is a component that provides efficient storage and near-neighbor search capability for hypervectors. This is analogous to the vector database as discussed in industry. "
   ]
  },
  {
   "cell_type": "code",
   "execution_count": null,
   "id": "6670883a-722e-4b59-aae8-1429c91fa386",
   "metadata": {},
   "outputs": [],
   "source": []
  }
 ],
 "metadata": {
  "kernelspec": {
   "display_name": "Python 3 (ipykernel)",
   "language": "python",
   "name": "python3"
  },
  "language_info": {
   "codemirror_mode": {
    "name": "ipython",
    "version": 3
   },
   "file_extension": ".py",
   "mimetype": "text/x-python",
   "name": "python",
   "nbconvert_exporter": "python",
   "pygments_lexer": "ipython3",
   "version": "3.9.2"
  }
 },
 "nbformat": 4,
 "nbformat_minor": 5
}
