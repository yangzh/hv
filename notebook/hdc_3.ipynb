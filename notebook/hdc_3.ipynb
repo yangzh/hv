{
 "cells": [
  {
   "cell_type": "markdown",
   "id": "b198639e-5d71-4834-aa8b-d7773d51f56f",
   "metadata": {},
   "source": [
    "Again, before start, let's import a few Python modules.\n",
    "\n",
    "This time we will focus on a new module of `kongming.memory`."
   ]
  },
  {
   "cell_type": "code",
   "execution_count": 1,
   "id": "14ad6377-fcf0-4892-9dc1-6939d5d7c87f",
   "metadata": {},
   "outputs": [
    {
     "name": "stdout",
     "output_type": "stream",
     "text": [
      "GOMAXPROCS set to 128 for this invocation.\n"
     ]
    }
   ],
   "source": [
    "from kongming import api, hv, memory \n",
    "from kongming.hv import helpers"
   ]
  },
  {
   "cell_type": "markdown",
   "id": "bbac3307-1e0f-450b-bc70-20824a610676",
   "metadata": {},
   "source": [
    "# Interacts with memory"
   ]
  },
  {
   "cell_type": "markdown",
   "id": "211036bb-b569-4ed9-88e4-8059fdab0acb",
   "metadata": {},
   "source": [
    "Once we have a good understanding of how hypervectors and their interactions, the next logical step is to store and retrieve them from a memory. \n",
    "\n",
    "Memory is a component that provides efficient storage and near-neighbor search capability for hypervectors. This is analogous to the vector database as discussed in industry. "
   ]
  },
  {
   "cell_type": "code",
   "execution_count": null,
   "id": "6670883a-722e-4b59-aae8-1429c91fa386",
   "metadata": {},
   "outputs": [],
   "source": []
  }
 ],
 "metadata": {
  "kernelspec": {
   "display_name": "Python 3 (ipykernel)",
   "language": "python",
   "name": "python3"
  },
  "language_info": {
   "codemirror_mode": {
    "name": "ipython",
    "version": 3
   },
   "file_extension": ".py",
   "mimetype": "text/x-python",
   "name": "python",
   "nbconvert_exporter": "python",
   "pygments_lexer": "ipython3",
   "version": "3.9.2"
  }
 },
 "nbformat": 4,
 "nbformat_minor": 5
}
