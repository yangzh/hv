{
 "cells": [
  {
   "cell_type": "markdown",
   "id": "b198639e-5d71-4834-aa8b-d7773d51f56f",
   "metadata": {},
   "source": [
    "Again, before start, let's import a few Python modules.\n",
    "\n",
    "This time we will focus on a new module of `kongming.memory`."
   ]
  },
  {
   "cell_type": "code",
   "execution_count": 1,
   "id": "14ad6377-fcf0-4892-9dc1-6939d5d7c87f",
   "metadata": {},
   "outputs": [
    {
     "name": "stdout",
     "output_type": "stream",
     "text": [
      "GOMAXPROCS set to 128 for this invocation.\n"
     ]
    }
   ],
   "source": [
    "from kongming import api, hv, memory \n",
    "from kongming.hv import helpers\n",
    "\n",
    "d0 = hv.d0()"
   ]
  },
  {
   "cell_type": "markdown",
   "id": "a5e1896a-515c-4fa7-9b83-79759122fd2c",
   "metadata": {},
   "source": [
    "Like we did before, we generate some primitive random hypervectors."
   ]
  },
  {
   "cell_type": "code",
   "execution_count": 2,
   "id": "e79e078e-6b52-46f5-9b2b-a188efbec1d5",
   "metadata": {},
   "outputs": [
    {
     "data": {
      "text/plain": [
       "(\"ss(m=MODEL_1M_10BIT, hash=0x40fa56a18e54f291, 'a', exp=1)\",\n",
       " \"ss(m=MODEL_1M_10BIT, hash=0xabcc3adf6707dbf2, 'k', exp=1)\")"
      ]
     },
     "execution_count": 2,
     "metadata": {},
     "output_type": "execute_result"
    }
   ],
   "source": [
    "primitives={chr(letter): d0.new_sparse_segmented_from_seed_word(api.MODEL_1M_10BIT, chr(letter)) for letter in range(ord('a'), ord('z')+1)}\n",
    "\n",
    "str(primitives['a']), str(primitives['k'])"
   ]
  },
  {
   "cell_type": "markdown",
   "id": "00a93b59-8f91-4a1e-94d4-1495ee62556b",
   "metadata": {},
   "source": [
    "# Working with CodePickers"
   ]
  },
  {
   "cell_type": "markdown",
   "id": "34919ea1-114a-4444-8f91-327138cfc214",
   "metadata": {},
   "source": [
    "`memory.CodePickers`, as its name suggests, are pre-defined logic that selects and picks codes. For example, we can pick constituents from a composite code representing a sequence, or we can pick nearby registered codes from a given probe."
   ]
  },
  {
   "cell_type": "code",
   "execution_count": 8,
   "id": "44a8a3c3-6ae4-4275-802b-73bad13cebd1",
   "metadata": {},
   "outputs": [
    {
     "data": {
      "text/plain": [
       "hint: SEQUENCE\n",
       "model: MODEL_1M_10BIT\n",
       "stable_hash: 7016629907439205749\n",
       "sequence {\n",
       "  seed: 1\n",
       "  contains {\n",
       "    members {\n",
       "      sparse_segmented {\n",
       "        seed_word: \"w\"\n",
       "      }\n",
       "    }\n",
       "    members {\n",
       "      sparse_segmented {\n",
       "        seed_word: \"o\"\n",
       "      }\n",
       "    }\n",
       "    members {\n",
       "      sparse_segmented {\n",
       "        seed_word: \"r\"\n",
       "      }\n",
       "    }\n",
       "    members {\n",
       "      sparse_segmented {\n",
       "        seed_word: \"l\"\n",
       "      }\n",
       "    }\n",
       "    members {\n",
       "      sparse_segmented {\n",
       "        seed_word: \"d\"\n",
       "      }\n",
       "    }\n",
       "  }\n",
       "}"
      ]
     },
     "execution_count": 8,
     "metadata": {},
     "output_type": "execute_result"
    }
   ],
   "source": [
    "world = d0.new_sequence(primitives['w'], primitives['o'], primitives['r'], primitives['l'], primitives['d']).compose(1)\n",
    "\n",
    "helpers.to_native_hbp(world.proto_load())"
   ]
  },
  {
   "cell_type": "markdown",
   "id": "f86b26b9-4ae1-4d17-8d75-c2e25a41c114",
   "metadata": {},
   "source": [
    "The above `world` itself is a composed `hv.Sequence` instance, and you can think of it as a sequence code for the word `world`.\n",
    "\n",
    "To recover individual members (`w`, `o`, `r`, `l` and `d`), we can use a instance `mp` of type `memory.sequence_members`."
   ]
  },
  {
   "cell_type": "code",
   "execution_count": 12,
   "id": "eafc3587-1841-4441-ae39-bc7f122b37b4",
   "metadata": {},
   "outputs": [
    {
     "data": {
      "text/plain": [
       "seq_members_of {\n",
       "  model: MODEL_1M_10BIT\n",
       "  sequence {\n",
       "    code {\n",
       "      hint: SEQUENCE\n",
       "      model: MODEL_1M_10BIT\n",
       "      stable_hash: 7016629907439205749\n",
       "      sequence {\n",
       "        seed: 1\n",
       "        contains {\n",
       "          members {\n",
       "            sparse_segmented {\n",
       "              seed_word: \"w\"\n",
       "            }\n",
       "          }\n",
       "          members {\n",
       "            sparse_segmented {\n",
       "              seed_word: \"o\"\n",
       "            }\n",
       "          }\n",
       "          members {\n",
       "            sparse_segmented {\n",
       "              seed_word: \"r\"\n",
       "            }\n",
       "          }\n",
       "          members {\n",
       "            sparse_segmented {\n",
       "              seed_word: \"l\"\n",
       "            }\n",
       "          }\n",
       "          members {\n",
       "            sparse_segmented {\n",
       "              seed_word: \"d\"\n",
       "            }\n",
       "          }\n",
       "        }\n",
       "      }\n",
       "    }\n",
       "  }\n",
       "}"
      ]
     },
     "execution_count": 12,
     "metadata": {},
     "output_type": "execute_result"
    }
   ],
   "source": [
    "mp = memory.sequence_members(api.MODEL_1M_10BIT, memory.code_as_picker(world), 0, 0)\n",
    "\n",
    "helpers.to_native_picker(mp.proto_load())"
   ]
  },
  {
   "cell_type": "markdown",
   "id": "9355d17e-e165-4d73-83c3-bafb2d3a9cbd",
   "metadata": {},
   "source": [
    "It has to be noted that the input for `memory.sequence_members` doesn't have to be the fully composed sequence code. Even with a flattened code (`world.core()`), the associative index should enable this code picker to do the right job. "
   ]
  },
  {
   "cell_type": "code",
   "execution_count": 13,
   "id": "6df3558c-8913-4b05-9e90-30618a27af02",
   "metadata": {
    "scrolled": true
   },
   "outputs": [
    {
     "data": {
      "text/plain": [
       "seq_members_of {\n",
       "  model: MODEL_1M_10BIT\n",
       "  sequence {\n",
       "    code {\n",
       "      model: MODEL_1M_10BIT\n",
       "      stable_hash: 7016629907439205749\n",
       "      sparse_segmented {\n",
       "        offsets: \"\\244\\030\\004)z\\327\\231\\\\O+.\\320{\\010\\235\\216q\\336,\\263yG\\274\\027\\367V=5*\\334\\333\\207.\\251)a~\\353\\r\\331.2\\304M:tp\\361\\014ey\\336\\020\\213\\334\\370\\2270\\263n\\214i\\317\\220n\\244\\212\\205j\\223\\005\\316M\\362\\000\\331\\362\\321\\320\\256\\265\\254\\301{\\tC\\275\\355\\253\\324e\\301\\302\\230#\\244\\237#\\241\\'&\\36431\\251A\\250|hYu\\273>C\\267a\\372M\\262\\375\\353\\355\\266C\\351\\177#2\\276X\\306-\\030\\307YD\\230\\004H\\323\\201\\273\\026\\374\\247w\\034\\247V\\013\\323\\346\\004\\317\\336 \\3463\\353\\035\\n\\206\\321\\033\\264B\\312\\300\\275\\005`\\251e)\\005 T\\031i\\226\\r\\235\\036[@\\362\\375\\002tW\\177\\356\\026\\216\\306\\337,\\277\\206\\276\\214l=\\230D\\n\\000\\256\\354\\210n~\\247\\020D.\\2146kJ\\225\\325\\243s\\311\\212\\350\\222\\252\\3462W\\275\\236t\\203\\225\\306&\\016n\\340N\\300g\\244\\275\\214:\\2328\\353\\305m\\\\\\351\\2278\\004\\206>cAB\\202\\002k\\341\\225\\277D\\377\\215\\216\\350\\2679\\220\\317\\031\\372\\210\\371B\\353D\\374\\000\\2123l\\211\\260T-.\\254\\370\\n\\315\\271l\\361\\357\\312\\3458\\307S\\2129)\\271\\245o-\\264Lf2\\223\\307\\014^;\\361\\330R4+\\267\\000\\270:\\235\\237\\236_%\\353SM\\317\\210G\\035\\334y\\377\\225\\267Q]\\222\\327\\203\\361\\263\\233\\310\\257\\326>\\261\\003f\\302\\361\\021\\236\\234\\325\\377+\\332\\261\\245\\314\\036\\205\\017\\205\\377\\376\\353\\226\\321:w\\026\\311J\\271\\204\\302\\002\\316 \\327\\rF2)\\230\\313\\254\\244l -\\032\\335M\\345\\205.\\233\\317\\247\\177\\277<9\\365=\\361\\307\\322\\241\\354?a8\\307\\321\\007\\240\\021\\316\\001dF3\\301=\\316\\266\\356\\310\\256CW\\353\\005&\\207\\333 \\232GZ]\\370\\332\\024\\027\\3359=\\254\\357\\271\\013\\250\\217MG4\\340\\224\\004\\235\\371-j[\\274w\\0163\\353\\361\\321\\363\\3460g\\017I\\320\\243\\3505\\3746\\014:\\253\\'\\360Bv\\351M\\215\\306\\t\\211\\033\\024\\340\\303\\010\\241}\\337\\341r\\323P\\232\\261\\034^\\237S\\370\\251i\\334>\\354eb\\234\\235L\\025_i\\006\\252T\\333&\\235\\035H\\335\\037\\223\\247q13\\226G\\333\\376\\313\\373.\\234e\\273y\\235\\240\\236C\\373q\\236wnk\\252tn\\227}\\344i\\260\\252\\334*\\036}\\220Ao\\035;\\340\\254j\\245\\225\\342h\\273b\\230\\253\\263\\271o\\344\\272 .\\264\\031\\345E\\322\\307\\352\\027U6q\\355\\365\\257\\013l\\016\\362R\\337X\\214\\347m#\\260\\025wc\\013y\\230\\235\\233\\312\\023\\217\\327\\324\\254)\\2011\\350,\\216\\377\\370\\024\\020\\327G\\330A\\274\\337\\344\\236\\347\\223\\004\\036w\\255xTB\\324C\\206!\\362\\313)\\177\\203\\264\\340\\0236\\0374h5m\\036\\034\\340\\367\\276\\\"A\\371P\\271\\023\\227\\245\\246:\\371\\007Z\\304q\\215\\257\\020\\247\\035\\3621\\224|\\210|\\177\\037\\357-e\\363\\241)\\377xL\\016\\327^\\3637\\275{\\275\\3267\\262l\\214\\255\\\\\\332\\217\\\\\\217\\352\\212\\017\\3006\\020\\374\\231,!\\235;dZ\\246K\\245\\017\\245\\003\\215\\034A\\206N\\306\\327\\000H#\\243}h\\363\\373E!VzV8\\341\\211\\035\\251\\220\\234\\227F\\310\\277)d}wE\\265\\321a\\374E*\\\\\\233\\300{\\275\\345i\\277V\\264],\\331\\2742R\\2428\\\"\\372_\\372\\257CIWkC^\\027\\221\\267s\\356#\\221\\350l\\253\\224CC\\237\\231\\272\\263\\177\\313F\\303T4\\320\\035\\251\\224e\\346\\304\\210\\330q\\266\\331o\\227\\374=\\276e4\\201\\002\\024\\221\\212{L\\361G)\\003xJ\\263\\356\\334\\263\\014\\177R5v\\337y\\361YV\\351=\\237\\304)\\tB\\372)\\275\\031\\256\\305\\220\\210R\\216\\363e\\266<\\353\\272\\256\\300\\356\\323$\\243#\\274?\\310t\\361\\007\\366\\0239:\\370\\374\\027mZ\\326=\\013:\\335_\\220n\\032{-2\\3470\\337\\321\\325\\362\\213\\221\\340Q\\3246\\247\\245n\\010\\245\\371n\\372jg\\214D\\316\\373\\262\\276\\334eH\\324\\357,c]\\\\\\317\\267\\003,FpY\\254?*GR\\216\\347d$\\010\\375e\\346\\236\\2663h,\\350\\032\\250\\222\\025\\036vg\\\"&\\267}^\\010\\256K\\007\\270~wQU|\\236ws\\323\\263QG\\n\\204K\\324Jq\\027fL\\232EZ\\324i\\266^\\200\\227\\303+n\\223<- \\341\\243\\\"C\\027\\273\\337Vu\\242\\301sIt\\366,\\030\\265n2\\003\\031\\27558YA\\2270+\\246\\234rFR\\311\\020\\027N\\313e>\\214\\365\\335u\\333\\037X\\351\\2316<\\023\\001T?\\027\\374b\\231\\230\\266]\\272\\207\\311\\243\\253\\272\\241\\235\\300\\312\\005\\360\\220\\256-\\263\\n\\206\\230\\025\\352#\\277\\236\\240\\214Z\\370\\005\\345\\214e\\031(j\\340&_\\264\\336\\002\\007\\037[\\2000\\213\\264\\337s5}\\016\\251\\347\\340h\\0328\\rJd\\021y5\\352\\032\\261\\322\\271O\\310p\\310\\016\\241=\\305\\335\\0353:IGk\\265,oEw]g\\273\\311s\\267\\030\\247\\2337\\242&\\305\\221\\031\\213(\\226\\023\\273\\336\\020\\304\\316\"\n",
       "      }\n",
       "    }\n",
       "  }\n",
       "}"
      ]
     },
     "execution_count": 13,
     "metadata": {},
     "output_type": "execute_result"
    }
   ],
   "source": [
    "mp0 = memory.sequence_members(api.MODEL_1M_10BIT, memory.code_as_picker(world.core()), 0, 0)\n",
    "\n",
    "helpers.to_native_picker(mp0.proto_load())"
   ]
  },
  {
   "cell_type": "markdown",
   "id": "c09a75ed-b63a-41ba-b3ef-7fdf7c335fe0",
   "metadata": {},
   "source": [
    "Notice the sequence codes from both `mp` and `mp1` are identical (from their `stable_hash`), and should return the same results."
   ]
  },
  {
   "cell_type": "markdown",
   "id": "bbac3307-1e0f-450b-bc70-20824a610676",
   "metadata": {},
   "source": [
    "# Interacts with memory"
   ]
  },
  {
   "cell_type": "markdown",
   "id": "211036bb-b569-4ed9-88e4-8059fdab0acb",
   "metadata": {},
   "source": [
    "Once we have a good understanding of how hypervectors and their interactions, the next logical step is to store and retrieve them from a memory. \n",
    "\n",
    "Memory is a component that provides efficient storage and near-neighbor search capability for hypervectors. This is analogous to the vector database as discussed in industry. "
   ]
  },
  {
   "cell_type": "code",
   "execution_count": null,
   "id": "6670883a-722e-4b59-aae8-1429c91fa386",
   "metadata": {},
   "outputs": [],
   "source": []
  }
 ],
 "metadata": {
  "kernelspec": {
   "display_name": "Python 3 (ipykernel)",
   "language": "python",
   "name": "python3"
  },
  "language_info": {
   "codemirror_mode": {
    "name": "ipython",
    "version": 3
   },
   "file_extension": ".py",
   "mimetype": "text/x-python",
   "name": "python",
   "nbconvert_exporter": "python",
   "pygments_lexer": "ipython3",
   "version": "3.9.2"
  }
 },
 "nbformat": 4,
 "nbformat_minor": 5
}
